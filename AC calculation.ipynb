{
 "cells": [
  {
   "cell_type": "markdown",
   "id": "631eb89e",
   "metadata": {},
   "source": [
    "# AC current calculation manim illustrations"
   ]
  },
  {
   "cell_type": "code",
   "execution_count": 3,
   "id": "60d4fa14",
   "metadata": {},
   "outputs": [],
   "source": [
    "from manim import * "
   ]
  },
  {
   "cell_type": "code",
   "execution_count": 3,
   "id": "6b7614ac",
   "metadata": {},
   "outputs": [
    {
     "data": {
      "text/html": [
       "<pre style=\"white-space:pre;overflow-x:auto;line-height:normal;font-family:Menlo,'DejaVu Sans Mono',consolas,'Courier New',monospace\">Manim Community <span style=\"color: #008000; text-decoration-color: #008000\">v0.18.1</span>\n",
       "\n",
       "</pre>\n"
      ],
      "text/plain": [
       "Manim Community \u001b[32mv0.\u001b[0m\u001b[32m18.1\u001b[0m\n",
       "\n"
      ]
     },
     "metadata": {},
     "output_type": "display_data"
    },
    {
     "name": "stderr",
     "output_type": "stream",
     "text": [
      "                                                                                                                       \r"
     ]
    },
    {
     "data": {
      "text/html": [
       "<video src=\"media\\jupyter\\SineCurveUnitCircle4@2024-11-29@16-56-11.mp4\" controls autoplay loop style=\"max-width: 60%;\"  >\n",
       "      Your browser does not support the <code>video</code> element.\n",
       "    </video>"
      ],
      "text/plain": [
       "<IPython.core.display.Video object>"
      ]
     },
     "metadata": {},
     "output_type": "display_data"
    }
   ],
   "source": [
    "from manim import *\n",
    "\n",
    "class SineCurveUnitCircle4(Scene):\n",
    "    def construct(self):\n",
    "        self.show_axis()\n",
    "        self.show_circle()\n",
    "        self.move_dots_and_draw_curves()\n",
    "        self.add_arrow_labels()\n",
    "        self.wait(15)\n",
    "\n",
    "    def show_axis(self):\n",
    "        # Main x-axis\n",
    "        x_start = np.array([-6, 0, 0])\n",
    "        x_end = np.array([6, 0, 0])\n",
    "\n",
    "        # Main y-axis\n",
    "        y_start = np.array([-4, -3, 0])\n",
    "        y_end = np.array([-4, 3, 0])\n",
    "\n",
    "        x_axis = Arrow(x_start, x_end)\n",
    "        y_axis = Line(y_start, y_end)\n",
    "\n",
    "        # Sine curve's y-axis\n",
    "        sine_y_start = np.array([-2, -3, 0])\n",
    "        sine_y_end = np.array([-2, 3, 0])\n",
    "        sine_y_axis = Arrow(sine_y_start, sine_y_end, color=WHITE, stroke_width=2)\n",
    "        \n",
    "#         axis labels:\n",
    "        axis_x_label=MathTex(r\"\\theta=\\omega t\").move_to(x_axis.get_center()+RIGHT*6+DOWN)\n",
    "        axis_y_label=MathTex(r\"a_1=A_1 \\sin{\\theta}\").move_to(sine_y_axis.get_center()+UP*3+RIGHT*2)\n",
    "\n",
    "        self.add(x_axis, y_axis, sine_y_axis, axis_x_label, axis_y_label)\n",
    "        self.add_x_labels()\n",
    "\n",
    "        self.origin_point = np.array([-4, 0, 0])\n",
    "        self.curve_start = np.array([-2, 0, 0])  # Added spacing from the circle\n",
    "\n",
    "    def add_x_labels(self):\n",
    "        x_labels = [\n",
    "            MathTex(\"\\pi\"), MathTex(\"2 \\pi\"),\n",
    "            MathTex(\"3 \\pi\"), MathTex(\"4 \\pi\"),\n",
    "        ]\n",
    "\n",
    "        for i in range(len(x_labels)):\n",
    "            x_labels[i].next_to(np.array([-1 + 2 * i, 0, 0]), DOWN)\n",
    "            self.add(x_labels[i])\n",
    "\n",
    "    def show_circle(self):\n",
    "        # Change circle radius\n",
    "        self.circle_radius = 2\n",
    "        circle = Circle(radius=self.circle_radius, color=WHITE)\n",
    "        circle.move_to(self.origin_point)\n",
    "        self.add(circle)\n",
    "        self.circle = circle\n",
    "\n",
    "    def move_dots_and_draw_curves(self):\n",
    "        orbit = self.circle\n",
    "        origin_point = self.origin_point\n",
    "\n",
    "        # First dot\n",
    "        dot1 = Dot(radius=0.08, color=YELLOW)\n",
    "        dot1.move_to(orbit.point_from_proportion(0))\n",
    "\n",
    "        self.t_offset = 0\n",
    "        rate = 0.125\n",
    "\n",
    "        def go_around_circle_first(mob, dt):\n",
    "            self.t_offset += (dt * rate)\n",
    "            mob.move_to(orbit.point_from_proportion(self.t_offset % 1))\n",
    "\n",
    "        def go_around_circle_second(mob, dt):\n",
    "            self.t_offset += (dt * rate)\n",
    "            mob.move_to(orbit.point_from_proportion((self.t_offset + 0.25) % 1))\n",
    "\n",
    "        # Adjust arrow lengths\n",
    "        def get_line_to_circle(dot, color, length=None):\n",
    "            length = length if length else self.circle_radius\n",
    "            return Arrow(origin_point, dot.get_center(), color=color, buff=0, max_tip_length_to_length_ratio=0.15).scale(length / self.circle_radius)\n",
    "\n",
    "        def get_line_to_curve(dot, color):\n",
    "            x = self.curve_start[0] + self.t_offset * 4\n",
    "            y = dot.get_center()[1]\n",
    "            return Line(dot.get_center(), np.array([x, y, 0]), color=color, stroke_width=2)\n",
    "\n",
    "        # Separate curve groups for each dot\n",
    "        curve1 = VGroup()\n",
    "        curve1.add(Line(self.curve_start, self.curve_start))\n",
    "\n",
    "        def get_curve(dot, curve_group, color):\n",
    "            last_line = curve_group[-1]\n",
    "            x = self.curve_start[0] + self.t_offset * 4\n",
    "            y = dot.get_center()[1]\n",
    "            new_line = Line(last_line.get_end(), np.array([x, y, 0]), color=color)\n",
    "            curve_group.add(new_line)\n",
    "            return curve_group\n",
    "\n",
    "        # Adding updaters to dots\n",
    "        dot1.add_updater(go_around_circle_first)\n",
    "       \n",
    "\n",
    "        origin_to_circle_line1 = always_redraw(lambda: get_line_to_circle(dot1, BLUE))\n",
    "        \n",
    "\n",
    "        dot_to_curve_line1 = always_redraw(lambda: get_line_to_curve(dot1, YELLOW_A))\n",
    "       \n",
    "\n",
    "        sine_curve_line1 = always_redraw(lambda: get_curve(dot1, curve1, BLUE))\n",
    "        \n",
    "\n",
    "        # Add elements to the scene\n",
    "        self.add(dot1)\n",
    "        self.add(orbit, origin_to_circle_line1)\n",
    "        self.add(dot_to_curve_line1)\n",
    "        self.add(sine_curve_line1)\n",
    "\n",
    "    def add_arrow_labels(self):\n",
    "        # Add labels A1 and A2 to the rotating arrows\n",
    "        label1 = always_redraw(lambda: MathTex(\"A_1\").next_to(self.circle.point_from_proportion(self.t_offset % 1), UP))\n",
    "        self.add(label1)\n",
    "\n",
    "        \n",
    "%manim -qh -v WARNING SineCurveUnitCircle4"
   ]
  },
  {
   "cell_type": "code",
   "execution_count": null,
   "id": "99719b34",
   "metadata": {},
   "outputs": [],
   "source": []
  },
  {
   "cell_type": "code",
   "execution_count": 4,
   "id": "fe7a7246",
   "metadata": {},
   "outputs": [
    {
     "data": {
      "text/html": [
       "<pre style=\"white-space:pre;overflow-x:auto;line-height:normal;font-family:Menlo,'DejaVu Sans Mono',consolas,'Courier New',monospace\">Manim Community <span style=\"color: #008000; text-decoration-color: #008000\">v0.18.1</span>\n",
       "\n",
       "</pre>\n"
      ],
      "text/plain": [
       "Manim Community \u001b[32mv0.\u001b[0m\u001b[32m18.1\u001b[0m\n",
       "\n"
      ]
     },
     "metadata": {},
     "output_type": "display_data"
    },
    {
     "name": "stderr",
     "output_type": "stream",
     "text": [
      "                                                                                                                       \r"
     ]
    },
    {
     "data": {
      "text/html": [
       "<video src=\"media\\jupyter\\SineCurveUnitCircle6@2024-11-29@17-09-43.mp4\" controls autoplay loop style=\"max-width: 60%;\"  >\n",
       "      Your browser does not support the <code>video</code> element.\n",
       "    </video>"
      ],
      "text/plain": [
       "<IPython.core.display.Video object>"
      ]
     },
     "metadata": {},
     "output_type": "display_data"
    }
   ],
   "source": [
    "from manim import *\n",
    "\n",
    "class SineCurveUnitCircle6(Scene):\n",
    "    def construct(self):\n",
    "        self.show_axis()\n",
    "        self.show_circles()\n",
    "        self.move_dots_and_draw_curves()\n",
    "        self.add_arrow_labels()\n",
    "        self.show_angle_arc()\n",
    "        self.wait(15)  # Longer animation for full rotation\n",
    "\n",
    "    def show_axis(self):\n",
    "        # Main x-axis\n",
    "        x_start = np.array([-6, 0, 0])\n",
    "        x_end = np.array([6, 0, 0])\n",
    "\n",
    "        # Main y-axis\n",
    "        y_start = np.array([-4, -3, 0])\n",
    "        y_end = np.array([-4, 3, 0])\n",
    "\n",
    "        x_axis = Line(x_start, x_end)\n",
    "        y_axis = Line(y_start, y_end)\n",
    "\n",
    "        # Sine curve's y-axis\n",
    "        sine_y_start = np.array([-2, -3, 0])\n",
    "        sine_y_end = np.array([-2, 3, 0])\n",
    "        sine_y_axis = Line(sine_y_start, sine_y_end, color=WHITE, stroke_width=2)\n",
    "\n",
    "        self.add(x_axis, y_axis, sine_y_axis)\n",
    "        self.add_x_labels()\n",
    "\n",
    "        self.origin_point = np.array([-4, 0, 0])\n",
    "        self.curve_start = np.array([-2, 0, 0])  # Added spacing from the circle\n",
    "\n",
    "    def add_x_labels(self):\n",
    "        x_labels = [\n",
    "            MathTex(\"\\pi\"), MathTex(\"2 \\pi\"),\n",
    "            MathTex(\"3 \\pi\"), MathTex(\"4 \\pi\"),\n",
    "        ]\n",
    "\n",
    "        for i in range(len(x_labels)):\n",
    "            x_labels[i].next_to(np.array([-1 + 2 * i, 0, 0]), DOWN)\n",
    "            self.add(x_labels[i])\n",
    "\n",
    "    def show_circles(self):\n",
    "        # Circle for arrow 1\n",
    "        self.circle_radius = 2\n",
    "        circle1 = Circle(radius=self.circle_radius, color=WHITE)\n",
    "        circle1.move_to(self.origin_point)\n",
    "        self.add(circle1)\n",
    "        self.circle1 = circle1\n",
    "\n",
    "        # Circle for arrow 2\n",
    "        self.circle_radius_2 = 1.5\n",
    "        circle2 = Circle(radius=self.circle_radius_2, color=BLUE_D)\n",
    "        circle2.move_to(self.origin_point)\n",
    "        self.add(circle2)\n",
    "        self.circle2 = circle2\n",
    "\n",
    "    def move_dots_and_draw_curves(self):\n",
    "        orbit1 = self.circle1\n",
    "        orbit2 = self.circle2\n",
    "        origin_point = self.origin_point\n",
    "\n",
    "        # Dot 1\n",
    "        dot1 = Dot(radius=0.08, color=WHITE)\n",
    "        dot1.move_to(orbit1.point_from_proportion(0))\n",
    "\n",
    "        # Dot 2 (phase-shifted by pi/2)\n",
    "        dot2 = Dot(radius=0.08, color=BLUE)\n",
    "        dot2.move_to(orbit2.point_from_proportion(0))\n",
    "\n",
    "        self.t_offset = 0\n",
    "        rate = 0.05  # Slower rotation for longer animation\n",
    "\n",
    "        def go_around_circle_first(mob, dt):\n",
    "            self.t_offset += (dt * rate)\n",
    "            mob.move_to(orbit1.point_from_proportion(self.t_offset % 1))\n",
    "\n",
    "        def go_around_circle_second(mob, dt):\n",
    "            self.t_offset += (dt * rate)\n",
    "            mob.move_to(orbit2.point_from_proportion((self.t_offset) % 1))\n",
    "\n",
    "        # Arrow definitions\n",
    "        def get_line_to_circle(dot, color, length=None):\n",
    "            length = length if length else self.circle_radius\n",
    "            return Arrow(origin_point, dot.get_center(), color=color, buff=0, max_tip_length_to_length_ratio=0.15).scale(length / self.circle_radius)\n",
    "\n",
    "        # Line to sinusoidal curve\n",
    "        def get_line_to_curve(dot, color):\n",
    "            x = self.curve_start[0] + self.t_offset * 4\n",
    "            y = dot.get_center()[1]\n",
    "            return Line(dot.get_center(), np.array([x, y, 0]), color=color, stroke_width=2)\n",
    "\n",
    "        # Sinusoidal curves\n",
    "        curve1 = VGroup()\n",
    "        curve1.add(Line(self.curve_start, self.curve_start))\n",
    "\n",
    "        curve2 = VGroup()\n",
    "        curve2.add(Line(self.curve_start, self.curve_start))\n",
    "\n",
    "        def get_curve(dot, curve_group, color):\n",
    "            last_line = curve_group[-1]\n",
    "            x = self.curve_start[0] + self.t_offset * 4\n",
    "            y = dot.get_center()[1]\n",
    "            new_line = Line(last_line.get_end(), np.array([x, y, 0]), color=color)\n",
    "            curve_group.add(new_line)\n",
    "            return curve_group\n",
    "\n",
    "        # Updaters for arrows and dots\n",
    "        dot1.add_updater(go_around_circle_first)\n",
    "        dot2.add_updater(go_around_circle_second)\n",
    "\n",
    "        origin_to_circle_line1 = always_redraw(lambda: get_line_to_circle(dot1, WHITE))\n",
    "        origin_to_circle_line2 = always_redraw(lambda: get_line_to_circle(dot2, BLUE))\n",
    "\n",
    "        dot_to_curve_line1 = always_redraw(lambda: get_line_to_curve(dot1, WHITE))\n",
    "        dot_to_curve_line2 = always_redraw(lambda: get_line_to_curve(dot2, BLUE_A))\n",
    "\n",
    "        sine_curve_line1 = always_redraw(lambda: get_curve(dot1, curve1, WHITE))\n",
    "        sine_curve_line2 = always_redraw(lambda: get_curve(dot2, curve2, BLUE_D))\n",
    "\n",
    "        # Add elements to the scene\n",
    "        self.add(dot1, dot2)\n",
    "        self.add(orbit1, orbit2, origin_to_circle_line1, origin_to_circle_line2)\n",
    "        self.add(dot_to_curve_line1, dot_to_curve_line2)\n",
    "        self.add(sine_curve_line1, sine_curve_line2)\n",
    "\n",
    "    def add_arrow_labels(self):\n",
    "        # Labels for A1 and A2\n",
    "        label1 = always_redraw(lambda: MathTex(\"U_m\").next_to(self.circle1.point_from_proportion(self.t_offset % 1), UP))\n",
    "        label2 = always_redraw(lambda: MathTex(\"I_m\").set_color(BLUE).next_to(self.circle2.point_from_proportion((self.t_offset) % 1), UP))\n",
    "        self.add(label1, label2)\n",
    "\n",
    "    def show_angle_arc(self):\n",
    "        # Arc to show the angle between arrows\n",
    "        def get_angle_arc():\n",
    "            return Arc(\n",
    "                radius=0.5,\n",
    "                start_angle=(self.t_offset % 1) * TAU,\n",
    "                angle=PI / 4,\n",
    "                arc_center=self.origin_point,\n",
    "                color=WHITE,\n",
    "            )\n",
    "\n",
    "        def get_angle_label():\n",
    "            arc_mid_angle = (self.t_offset % 1) * TAU + PI / 8\n",
    "            label_position = np.array([\n",
    "                self.origin_point[0] + 0.6 * np.cos(arc_mid_angle),\n",
    "                self.origin_point[1] + 0.6 * np.sin(arc_mid_angle),\n",
    "                0,\n",
    "            ])\n",
    "            return MathTex(r\"\\phi_0\").move_to(label_position)\n",
    "\n",
    "#         arc = always_redraw(get_angle_arc)\n",
    "#         angle_label = always_redraw(get_angle_label)\n",
    "\n",
    "#         self.add(arc, angle_label)\n",
    "\n",
    "%manim -qh -v WARNING SineCurveUnitCircle6"
   ]
  },
  {
   "cell_type": "code",
   "execution_count": 20,
   "id": "a03dc0dc",
   "metadata": {},
   "outputs": [
    {
     "data": {
      "text/html": [
       "<pre style=\"white-space:pre;overflow-x:auto;line-height:normal;font-family:Menlo,'DejaVu Sans Mono',consolas,'Courier New',monospace\">Manim Community <span style=\"color: #008000; text-decoration-color: #008000\">v0.18.1</span>\n",
       "\n",
       "</pre>\n"
      ],
      "text/plain": [
       "Manim Community \u001b[32mv0.\u001b[0m\u001b[32m18.1\u001b[0m\n",
       "\n"
      ]
     },
     "metadata": {},
     "output_type": "display_data"
    },
    {
     "name": "stderr",
     "output_type": "stream",
     "text": [
      "                                                                                                                       \r"
     ]
    },
    {
     "data": {
      "text/html": [
       "<video src=\"media\\jupyter\\SineCurveUnitCircle6@2024-11-28@20-21-07.mp4\" controls autoplay loop style=\"max-width: 60%;\"  >\n",
       "      Your browser does not support the <code>video</code> element.\n",
       "    </video>"
      ],
      "text/plain": [
       "<IPython.core.display.Video object>"
      ]
     },
     "metadata": {},
     "output_type": "display_data"
    }
   ],
   "source": []
  },
  {
   "cell_type": "code",
   "execution_count": 2,
   "id": "a99b8dc0",
   "metadata": {},
   "outputs": [
    {
     "data": {
      "text/html": [
       "<pre style=\"white-space:pre;overflow-x:auto;line-height:normal;font-family:Menlo,'DejaVu Sans Mono',consolas,'Courier New',monospace\">Manim Community <span style=\"color: #008000; text-decoration-color: #008000\">v0.18.1</span>\n",
       "\n",
       "</pre>\n"
      ],
      "text/plain": [
       "Manim Community \u001b[32mv0.\u001b[0m\u001b[32m18.1\u001b[0m\n",
       "\n"
      ]
     },
     "metadata": {},
     "output_type": "display_data"
    },
    {
     "name": "stderr",
     "output_type": "stream",
     "text": [
      "                                                                                                                       \r"
     ]
    },
    {
     "ename": "KeyboardInterrupt",
     "evalue": "",
     "output_type": "error",
     "traceback": [
      "\u001b[1;31m---------------------------------------------------------------------------\u001b[0m",
      "\u001b[1;31mKeyboardInterrupt\u001b[0m                         Traceback (most recent call last)",
      "Cell \u001b[1;32mIn[2], line 166\u001b[0m\n\u001b[0;32m    162\u001b[0m         angle_label \u001b[38;5;241m=\u001b[39m always_redraw(get_angle_label)\n\u001b[0;32m    164\u001b[0m         \u001b[38;5;28mself\u001b[39m\u001b[38;5;241m.\u001b[39madd(arc, angle_label)\n\u001b[1;32m--> 166\u001b[0m \u001b[43mget_ipython\u001b[49m\u001b[43m(\u001b[49m\u001b[43m)\u001b[49m\u001b[38;5;241;43m.\u001b[39;49m\u001b[43mrun_line_magic\u001b[49m\u001b[43m(\u001b[49m\u001b[38;5;124;43m'\u001b[39;49m\u001b[38;5;124;43mmanim\u001b[39;49m\u001b[38;5;124;43m'\u001b[39;49m\u001b[43m,\u001b[49m\u001b[43m \u001b[49m\u001b[38;5;124;43m'\u001b[39;49m\u001b[38;5;124;43m-qh -v WARNING SineCurveSumOfVectorsL0_f\u001b[39;49m\u001b[38;5;124;43m'\u001b[39;49m\u001b[43m)\u001b[49m\n",
      "File \u001b[1;32m~\\anaconda3\\envs\\myvenv\\Lib\\site-packages\\IPython\\core\\interactiveshell.py:2480\u001b[0m, in \u001b[0;36mInteractiveShell.run_line_magic\u001b[1;34m(self, magic_name, line, _stack_depth)\u001b[0m\n\u001b[0;32m   2478\u001b[0m     kwargs[\u001b[38;5;124m'\u001b[39m\u001b[38;5;124mlocal_ns\u001b[39m\u001b[38;5;124m'\u001b[39m] \u001b[38;5;241m=\u001b[39m \u001b[38;5;28mself\u001b[39m\u001b[38;5;241m.\u001b[39mget_local_scope(stack_depth)\n\u001b[0;32m   2479\u001b[0m \u001b[38;5;28;01mwith\u001b[39;00m \u001b[38;5;28mself\u001b[39m\u001b[38;5;241m.\u001b[39mbuiltin_trap:\n\u001b[1;32m-> 2480\u001b[0m     result \u001b[38;5;241m=\u001b[39m \u001b[43mfn\u001b[49m\u001b[43m(\u001b[49m\u001b[38;5;241;43m*\u001b[39;49m\u001b[43margs\u001b[49m\u001b[43m,\u001b[49m\u001b[43m \u001b[49m\u001b[38;5;241;43m*\u001b[39;49m\u001b[38;5;241;43m*\u001b[39;49m\u001b[43mkwargs\u001b[49m\u001b[43m)\u001b[49m\n\u001b[0;32m   2482\u001b[0m \u001b[38;5;66;03m# The code below prevents the output from being displayed\u001b[39;00m\n\u001b[0;32m   2483\u001b[0m \u001b[38;5;66;03m# when using magics with decorator @output_can_be_silenced\u001b[39;00m\n\u001b[0;32m   2484\u001b[0m \u001b[38;5;66;03m# when the last Python token in the expression is a ';'.\u001b[39;00m\n\u001b[0;32m   2485\u001b[0m \u001b[38;5;28;01mif\u001b[39;00m \u001b[38;5;28mgetattr\u001b[39m(fn, magic\u001b[38;5;241m.\u001b[39mMAGIC_OUTPUT_CAN_BE_SILENCED, \u001b[38;5;28;01mFalse\u001b[39;00m):\n",
      "File \u001b[1;32m~\\anaconda3\\envs\\myvenv\\Lib\\site-packages\\manim\\utils\\ipython_magic.py:143\u001b[0m, in \u001b[0;36mManimMagic.manim\u001b[1;34m(self, line, cell, local_ns)\u001b[0m\n\u001b[0;32m    141\u001b[0m     SceneClass \u001b[38;5;241m=\u001b[39m local_ns[config[\u001b[38;5;124m\"\u001b[39m\u001b[38;5;124mscene_names\u001b[39m\u001b[38;5;124m\"\u001b[39m][\u001b[38;5;241m0\u001b[39m]]\n\u001b[0;32m    142\u001b[0m     scene \u001b[38;5;241m=\u001b[39m SceneClass(renderer\u001b[38;5;241m=\u001b[39mrenderer)\n\u001b[1;32m--> 143\u001b[0m     \u001b[43mscene\u001b[49m\u001b[38;5;241;43m.\u001b[39;49m\u001b[43mrender\u001b[49m\u001b[43m(\u001b[49m\u001b[43m)\u001b[49m\n\u001b[0;32m    144\u001b[0m \u001b[38;5;28;01mfinally\u001b[39;00m:\n\u001b[0;32m    145\u001b[0m     \u001b[38;5;66;03m# Shader cache becomes invalid as the context is destroyed\u001b[39;00m\n\u001b[0;32m    146\u001b[0m     shader_program_cache\u001b[38;5;241m.\u001b[39mclear()\n",
      "File \u001b[1;32m~\\anaconda3\\envs\\myvenv\\Lib\\site-packages\\manim\\scene\\scene.py:229\u001b[0m, in \u001b[0;36mScene.render\u001b[1;34m(self, preview)\u001b[0m\n\u001b[0;32m    227\u001b[0m \u001b[38;5;28mself\u001b[39m\u001b[38;5;241m.\u001b[39msetup()\n\u001b[0;32m    228\u001b[0m \u001b[38;5;28;01mtry\u001b[39;00m:\n\u001b[1;32m--> 229\u001b[0m     \u001b[38;5;28;43mself\u001b[39;49m\u001b[38;5;241;43m.\u001b[39;49m\u001b[43mconstruct\u001b[49m\u001b[43m(\u001b[49m\u001b[43m)\u001b[49m\n\u001b[0;32m    230\u001b[0m \u001b[38;5;28;01mexcept\u001b[39;00m EndSceneEarlyException:\n\u001b[0;32m    231\u001b[0m     \u001b[38;5;28;01mpass\u001b[39;00m\n",
      "Cell \u001b[1;32mIn[2], line 14\u001b[0m, in \u001b[0;36mSineCurveSumOfVectorsL0_f.construct\u001b[1;34m(self)\u001b[0m\n\u001b[0;32m     12\u001b[0m \u001b[38;5;28mself\u001b[39m\u001b[38;5;241m.\u001b[39madd_arrow_labels()\n\u001b[0;32m     13\u001b[0m \u001b[38;5;28mself\u001b[39m\u001b[38;5;241m.\u001b[39mshow_angle_arc()\n\u001b[1;32m---> 14\u001b[0m \u001b[38;5;28;43mself\u001b[39;49m\u001b[38;5;241;43m.\u001b[39;49m\u001b[43mwait\u001b[49m\u001b[43m(\u001b[49m\u001b[38;5;241;43m30\u001b[39;49m\u001b[43m)\u001b[49m\n",
      "File \u001b[1;32m~\\anaconda3\\envs\\myvenv\\Lib\\site-packages\\manim\\scene\\scene.py:1134\u001b[0m, in \u001b[0;36mScene.wait\u001b[1;34m(self, duration, stop_condition, frozen_frame)\u001b[0m\n\u001b[0;32m   1107\u001b[0m \u001b[38;5;28;01mdef\u001b[39;00m \u001b[38;5;21mwait\u001b[39m(\n\u001b[0;32m   1108\u001b[0m     \u001b[38;5;28mself\u001b[39m,\n\u001b[0;32m   1109\u001b[0m     duration: \u001b[38;5;28mfloat\u001b[39m \u001b[38;5;241m=\u001b[39m DEFAULT_WAIT_TIME,\n\u001b[0;32m   1110\u001b[0m     stop_condition: Callable[[], \u001b[38;5;28mbool\u001b[39m] \u001b[38;5;241m|\u001b[39m \u001b[38;5;28;01mNone\u001b[39;00m \u001b[38;5;241m=\u001b[39m \u001b[38;5;28;01mNone\u001b[39;00m,\n\u001b[0;32m   1111\u001b[0m     frozen_frame: \u001b[38;5;28mbool\u001b[39m \u001b[38;5;241m|\u001b[39m \u001b[38;5;28;01mNone\u001b[39;00m \u001b[38;5;241m=\u001b[39m \u001b[38;5;28;01mNone\u001b[39;00m,\n\u001b[0;32m   1112\u001b[0m ):\n\u001b[0;32m   1113\u001b[0m \u001b[38;5;250m    \u001b[39m\u001b[38;5;124;03m\"\"\"Plays a \"no operation\" animation.\u001b[39;00m\n\u001b[0;32m   1114\u001b[0m \n\u001b[0;32m   1115\u001b[0m \u001b[38;5;124;03m    Parameters\u001b[39;00m\n\u001b[1;32m   (...)\u001b[0m\n\u001b[0;32m   1132\u001b[0m \u001b[38;5;124;03m    :class:`.Wait`, :meth:`.should_mobjects_update`\u001b[39;00m\n\u001b[0;32m   1133\u001b[0m \u001b[38;5;124;03m    \"\"\"\u001b[39;00m\n\u001b[1;32m-> 1134\u001b[0m     \u001b[38;5;28;43mself\u001b[39;49m\u001b[38;5;241;43m.\u001b[39;49m\u001b[43mplay\u001b[49m\u001b[43m(\u001b[49m\n\u001b[0;32m   1135\u001b[0m \u001b[43m        \u001b[49m\u001b[43mWait\u001b[49m\u001b[43m(\u001b[49m\n\u001b[0;32m   1136\u001b[0m \u001b[43m            \u001b[49m\u001b[43mrun_time\u001b[49m\u001b[38;5;241;43m=\u001b[39;49m\u001b[43mduration\u001b[49m\u001b[43m,\u001b[49m\n\u001b[0;32m   1137\u001b[0m \u001b[43m            \u001b[49m\u001b[43mstop_condition\u001b[49m\u001b[38;5;241;43m=\u001b[39;49m\u001b[43mstop_condition\u001b[49m\u001b[43m,\u001b[49m\n\u001b[0;32m   1138\u001b[0m \u001b[43m            \u001b[49m\u001b[43mfrozen_frame\u001b[49m\u001b[38;5;241;43m=\u001b[39;49m\u001b[43mfrozen_frame\u001b[49m\u001b[43m,\u001b[49m\n\u001b[0;32m   1139\u001b[0m \u001b[43m        \u001b[49m\u001b[43m)\u001b[49m\n\u001b[0;32m   1140\u001b[0m \u001b[43m    \u001b[49m\u001b[43m)\u001b[49m\n",
      "File \u001b[1;32m~\\anaconda3\\envs\\myvenv\\Lib\\site-packages\\manim\\scene\\scene.py:1092\u001b[0m, in \u001b[0;36mScene.play\u001b[1;34m(self, subcaption, subcaption_duration, subcaption_offset, *args, **kwargs)\u001b[0m\n\u001b[0;32m   1089\u001b[0m     \u001b[38;5;28;01mreturn\u001b[39;00m\n\u001b[0;32m   1091\u001b[0m start_time \u001b[38;5;241m=\u001b[39m \u001b[38;5;28mself\u001b[39m\u001b[38;5;241m.\u001b[39mrenderer\u001b[38;5;241m.\u001b[39mtime\n\u001b[1;32m-> 1092\u001b[0m \u001b[38;5;28;43mself\u001b[39;49m\u001b[38;5;241;43m.\u001b[39;49m\u001b[43mrenderer\u001b[49m\u001b[38;5;241;43m.\u001b[39;49m\u001b[43mplay\u001b[49m\u001b[43m(\u001b[49m\u001b[38;5;28;43mself\u001b[39;49m\u001b[43m,\u001b[49m\u001b[43m \u001b[49m\u001b[38;5;241;43m*\u001b[39;49m\u001b[43margs\u001b[49m\u001b[43m,\u001b[49m\u001b[43m \u001b[49m\u001b[38;5;241;43m*\u001b[39;49m\u001b[38;5;241;43m*\u001b[39;49m\u001b[43mkwargs\u001b[49m\u001b[43m)\u001b[49m\n\u001b[0;32m   1093\u001b[0m run_time \u001b[38;5;241m=\u001b[39m \u001b[38;5;28mself\u001b[39m\u001b[38;5;241m.\u001b[39mrenderer\u001b[38;5;241m.\u001b[39mtime \u001b[38;5;241m-\u001b[39m start_time\n\u001b[0;32m   1094\u001b[0m \u001b[38;5;28;01mif\u001b[39;00m subcaption:\n",
      "File \u001b[1;32m~\\anaconda3\\envs\\myvenv\\Lib\\site-packages\\manim\\renderer\\cairo_renderer.py:114\u001b[0m, in \u001b[0;36mCairoRenderer.play\u001b[1;34m(self, scene, *args, **kwargs)\u001b[0m\n\u001b[0;32m    112\u001b[0m     \u001b[38;5;28mself\u001b[39m\u001b[38;5;241m.\u001b[39mfreeze_current_frame(scene\u001b[38;5;241m.\u001b[39mduration)\n\u001b[0;32m    113\u001b[0m \u001b[38;5;28;01melse\u001b[39;00m:\n\u001b[1;32m--> 114\u001b[0m     \u001b[43mscene\u001b[49m\u001b[38;5;241;43m.\u001b[39;49m\u001b[43mplay_internal\u001b[49m\u001b[43m(\u001b[49m\u001b[43m)\u001b[49m\n\u001b[0;32m    115\u001b[0m \u001b[38;5;28mself\u001b[39m\u001b[38;5;241m.\u001b[39mfile_writer\u001b[38;5;241m.\u001b[39mend_animation(\u001b[38;5;129;01mnot\u001b[39;00m \u001b[38;5;28mself\u001b[39m\u001b[38;5;241m.\u001b[39mskip_animations)\n\u001b[0;32m    117\u001b[0m \u001b[38;5;28mself\u001b[39m\u001b[38;5;241m.\u001b[39mnum_plays \u001b[38;5;241m+\u001b[39m\u001b[38;5;241m=\u001b[39m \u001b[38;5;241m1\u001b[39m\n",
      "File \u001b[1;32m~\\anaconda3\\envs\\myvenv\\Lib\\site-packages\\manim\\scene\\scene.py:1259\u001b[0m, in \u001b[0;36mScene.play_internal\u001b[1;34m(self, skip_rendering)\u001b[0m\n\u001b[0;32m   1254\u001b[0m \u001b[38;5;28mself\u001b[39m\u001b[38;5;241m.\u001b[39mtime_progression \u001b[38;5;241m=\u001b[39m \u001b[38;5;28mself\u001b[39m\u001b[38;5;241m.\u001b[39m_get_animation_time_progression(\n\u001b[0;32m   1255\u001b[0m     \u001b[38;5;28mself\u001b[39m\u001b[38;5;241m.\u001b[39manimations,\n\u001b[0;32m   1256\u001b[0m     \u001b[38;5;28mself\u001b[39m\u001b[38;5;241m.\u001b[39mduration,\n\u001b[0;32m   1257\u001b[0m )\n\u001b[0;32m   1258\u001b[0m \u001b[38;5;28;01mfor\u001b[39;00m t \u001b[38;5;129;01min\u001b[39;00m \u001b[38;5;28mself\u001b[39m\u001b[38;5;241m.\u001b[39mtime_progression:\n\u001b[1;32m-> 1259\u001b[0m     \u001b[38;5;28;43mself\u001b[39;49m\u001b[38;5;241;43m.\u001b[39;49m\u001b[43mupdate_to_time\u001b[49m\u001b[43m(\u001b[49m\u001b[43mt\u001b[49m\u001b[43m)\u001b[49m\n\u001b[0;32m   1260\u001b[0m     \u001b[38;5;28;01mif\u001b[39;00m \u001b[38;5;129;01mnot\u001b[39;00m skip_rendering \u001b[38;5;129;01mand\u001b[39;00m \u001b[38;5;129;01mnot\u001b[39;00m \u001b[38;5;28mself\u001b[39m\u001b[38;5;241m.\u001b[39mskip_animation_preview:\n\u001b[0;32m   1261\u001b[0m         \u001b[38;5;28mself\u001b[39m\u001b[38;5;241m.\u001b[39mrenderer\u001b[38;5;241m.\u001b[39mrender(\u001b[38;5;28mself\u001b[39m, t, \u001b[38;5;28mself\u001b[39m\u001b[38;5;241m.\u001b[39mmoving_mobjects)\n",
      "File \u001b[1;32m~\\anaconda3\\envs\\myvenv\\Lib\\site-packages\\manim\\scene\\scene.py:1501\u001b[0m, in \u001b[0;36mScene.update_to_time\u001b[1;34m(self, t)\u001b[0m\n\u001b[0;32m   1499\u001b[0m     alpha \u001b[38;5;241m=\u001b[39m t \u001b[38;5;241m/\u001b[39m animation\u001b[38;5;241m.\u001b[39mrun_time\n\u001b[0;32m   1500\u001b[0m     animation\u001b[38;5;241m.\u001b[39minterpolate(alpha)\n\u001b[1;32m-> 1501\u001b[0m \u001b[38;5;28;43mself\u001b[39;49m\u001b[38;5;241;43m.\u001b[39;49m\u001b[43mupdate_mobjects\u001b[49m\u001b[43m(\u001b[49m\u001b[43mdt\u001b[49m\u001b[43m)\u001b[49m\n\u001b[0;32m   1502\u001b[0m \u001b[38;5;28mself\u001b[39m\u001b[38;5;241m.\u001b[39mupdate_meshes(dt)\n\u001b[0;32m   1503\u001b[0m \u001b[38;5;28mself\u001b[39m\u001b[38;5;241m.\u001b[39mupdate_self(dt)\n",
      "File \u001b[1;32m~\\anaconda3\\envs\\myvenv\\Lib\\site-packages\\manim\\scene\\scene.py:348\u001b[0m, in \u001b[0;36mScene.update_mobjects\u001b[1;34m(self, dt)\u001b[0m\n\u001b[0;32m    339\u001b[0m \u001b[38;5;250m\u001b[39m\u001b[38;5;124;03m\"\"\"\u001b[39;00m\n\u001b[0;32m    340\u001b[0m \u001b[38;5;124;03mBegins updating all mobjects in the Scene.\u001b[39;00m\n\u001b[0;32m    341\u001b[0m \n\u001b[1;32m   (...)\u001b[0m\n\u001b[0;32m    345\u001b[0m \u001b[38;5;124;03m    Change in time between updates. Defaults (mostly) to 1/frames_per_second\u001b[39;00m\n\u001b[0;32m    346\u001b[0m \u001b[38;5;124;03m\"\"\"\u001b[39;00m\n\u001b[0;32m    347\u001b[0m \u001b[38;5;28;01mfor\u001b[39;00m mobject \u001b[38;5;129;01min\u001b[39;00m \u001b[38;5;28mself\u001b[39m\u001b[38;5;241m.\u001b[39mmobjects:\n\u001b[1;32m--> 348\u001b[0m     \u001b[43mmobject\u001b[49m\u001b[38;5;241;43m.\u001b[39;49m\u001b[43mupdate\u001b[49m\u001b[43m(\u001b[49m\u001b[43mdt\u001b[49m\u001b[43m)\u001b[49m\n",
      "File \u001b[1;32m~\\anaconda3\\envs\\myvenv\\Lib\\site-packages\\manim\\mobject\\mobject.py:850\u001b[0m, in \u001b[0;36mMobject.update\u001b[1;34m(self, dt, recursive)\u001b[0m\n\u001b[0;32m    848\u001b[0m         updater(\u001b[38;5;28mself\u001b[39m, dt)\n\u001b[0;32m    849\u001b[0m     \u001b[38;5;28;01melse\u001b[39;00m:\n\u001b[1;32m--> 850\u001b[0m         \u001b[43mupdater\u001b[49m\u001b[43m(\u001b[49m\u001b[38;5;28;43mself\u001b[39;49m\u001b[43m)\u001b[49m\n\u001b[0;32m    851\u001b[0m \u001b[38;5;28;01mif\u001b[39;00m recursive:\n\u001b[0;32m    852\u001b[0m     \u001b[38;5;28;01mfor\u001b[39;00m submob \u001b[38;5;129;01min\u001b[39;00m \u001b[38;5;28mself\u001b[39m\u001b[38;5;241m.\u001b[39msubmobjects:\n",
      "File \u001b[1;32m~\\anaconda3\\envs\\myvenv\\Lib\\site-packages\\manim\\animation\\updaters\\mobject_update_utils.py:104\u001b[0m, in \u001b[0;36malways_redraw.<locals>.<lambda>\u001b[1;34m(_)\u001b[0m\n\u001b[0;32m     64\u001b[0m \u001b[38;5;250m\u001b[39m\u001b[38;5;124;03m\"\"\"Redraw the mobject constructed by a function every frame.\u001b[39;00m\n\u001b[0;32m     65\u001b[0m \n\u001b[0;32m     66\u001b[0m \u001b[38;5;124;03mThis function returns a mobject with an attached updater that\u001b[39;00m\n\u001b[1;32m   (...)\u001b[0m\n\u001b[0;32m    101\u001b[0m \u001b[38;5;124;03m            self.play(alpha.animate.set_value(1), rate_func=linear, run_time=2)\u001b[39;00m\n\u001b[0;32m    102\u001b[0m \u001b[38;5;124;03m\"\"\"\u001b[39;00m\n\u001b[0;32m    103\u001b[0m mob \u001b[38;5;241m=\u001b[39m func()\n\u001b[1;32m--> 104\u001b[0m mob\u001b[38;5;241m.\u001b[39madd_updater(\u001b[38;5;28;01mlambda\u001b[39;00m _: \u001b[43mmob\u001b[49m\u001b[38;5;241;43m.\u001b[39;49m\u001b[43mbecome\u001b[49m\u001b[43m(\u001b[49m\u001b[43mfunc\u001b[49m\u001b[43m(\u001b[49m\u001b[43m)\u001b[49m\u001b[43m)\u001b[49m)\n\u001b[0;32m    105\u001b[0m \u001b[38;5;28;01mreturn\u001b[39;00m mob\n",
      "File \u001b[1;32m~\\anaconda3\\envs\\myvenv\\Lib\\site-packages\\manim\\mobject\\mobject.py:2894\u001b[0m, in \u001b[0;36mMobject.become\u001b[1;34m(self, mobject, match_height, match_width, match_depth, match_center, stretch)\u001b[0m\n\u001b[0;32m   2892\u001b[0m \u001b[38;5;28;01mfor\u001b[39;00m sm1, sm2 \u001b[38;5;129;01min\u001b[39;00m \u001b[38;5;28mzip\u001b[39m(\u001b[38;5;28mself\u001b[39m\u001b[38;5;241m.\u001b[39mget_family(), mobject\u001b[38;5;241m.\u001b[39mget_family()):\n\u001b[0;32m   2893\u001b[0m     sm1\u001b[38;5;241m.\u001b[39mpoints \u001b[38;5;241m=\u001b[39m np\u001b[38;5;241m.\u001b[39marray(sm2\u001b[38;5;241m.\u001b[39mpoints)\n\u001b[1;32m-> 2894\u001b[0m     \u001b[43msm1\u001b[49m\u001b[38;5;241;43m.\u001b[39;49m\u001b[43minterpolate_color\u001b[49m\u001b[43m(\u001b[49m\u001b[43msm1\u001b[49m\u001b[43m,\u001b[49m\u001b[43m \u001b[49m\u001b[43msm2\u001b[49m\u001b[43m,\u001b[49m\u001b[43m \u001b[49m\u001b[38;5;241;43m1\u001b[39;49m\u001b[43m)\u001b[49m\n\u001b[0;32m   2895\u001b[0m \u001b[38;5;28;01mreturn\u001b[39;00m \u001b[38;5;28mself\u001b[39m\n",
      "File \u001b[1;32m~\\anaconda3\\envs\\myvenv\\Lib\\site-packages\\manim\\mobject\\types\\vectorized_mobject.py:1781\u001b[0m, in \u001b[0;36mVMobject.interpolate_color\u001b[1;34m(self, mobject1, mobject2, alpha)\u001b[0m\n\u001b[0;32m   1779\u001b[0m val \u001b[38;5;241m=\u001b[39m \u001b[38;5;28mgetattr\u001b[39m(mobject2, attr)\n\u001b[0;32m   1780\u001b[0m \u001b[38;5;28;01mif\u001b[39;00m \u001b[38;5;28misinstance\u001b[39m(val, np\u001b[38;5;241m.\u001b[39mndarray):\n\u001b[1;32m-> 1781\u001b[0m     val \u001b[38;5;241m=\u001b[39m val\u001b[38;5;241m.\u001b[39mcopy()\n\u001b[0;32m   1782\u001b[0m \u001b[38;5;28msetattr\u001b[39m(\u001b[38;5;28mself\u001b[39m, attr, val)\n",
      "\u001b[1;31mKeyboardInterrupt\u001b[0m: "
     ]
    }
   ],
   "source": [
    "from manim import *\n",
    "\n",
    "class SineCurveSumOfVectorsL0_f(Scene):\n",
    "    def construct(self):\n",
    "        t=Tex(\"Yrgyldylaryň goşulyşy\").to_edge(UP).scale(0.8)\n",
    "        a=Tex(r\"$@$\"+\"takykbilim\").to_corner(DR).scale(0.8)\n",
    "        \n",
    "#         self.add(t, a)\n",
    "        \n",
    "        self.show_axis()\n",
    "        self.move_dots_and_draw_curves()\n",
    "        self.add_arrow_labels()\n",
    "        self.show_angle_arc()\n",
    "        self.wait(30)  # Longer animation for full visualization\n",
    "\n",
    "    def show_axis(self):\n",
    "        # Main x-axis\n",
    "        x_start = np.array([-6, 0, 0])\n",
    "        x_end = np.array([6, 0, 0])\n",
    "\n",
    "        # Main y-axis\n",
    "        y_start = np.array([-4, -3, 0])\n",
    "        y_end = np.array([-4, 3, 0])\n",
    "\n",
    "        x_axis = Line(x_start, x_end)\n",
    "        y_axis = Line(y_start, y_end)\n",
    "\n",
    "        # Sine curve's y-axis\n",
    "        sine_y_start = np.array([-2, -3, 0])\n",
    "        sine_y_end = np.array([-2, 3, 0])\n",
    "        sine_y_axis = Line(sine_y_start, sine_y_end, color=WHITE, stroke_width=2)\n",
    "        \n",
    "#         add labels:\n",
    "        axis_x_label=MathTex(r\"\\theta=\\omega t\").move_to(x_axis.get_center()+RIGHT*6+DOWN)\n",
    "        axis_y_label1=MathTex(r\"I_m\").move_to(sine_y_axis.get_center()+UP*3+RIGHT*2).set_color(BLUE)\n",
    "        axis_y_label2=MathTex(r\"U_m\").next_to(axis_y_label1, RIGHT).set_color(WHITE)\n",
    "\n",
    "        self.add(x_axis, y_axis, sine_y_axis, axis_x_label, axis_y_label1, axis_y_label2)\n",
    "        self.add_x_labels()\n",
    "\n",
    "        self.origin_point = np.array([-4, 0, 0])\n",
    "        self.curve_start = np.array([-2, 0, 0])  # Added spacing for curves\n",
    "\n",
    "    def add_x_labels(self):\n",
    "        x_labels = [\n",
    "            MathTex(\"\\pi\"), MathTex(\"2 \\pi\"),\n",
    "            MathTex(\"3 \\pi\"), MathTex(\"4 \\pi\"),\n",
    "        ]\n",
    "\n",
    "        for i in range(len(x_labels)):\n",
    "            x_labels[i].next_to(np.array([-1 + 2 * i, 0, 0]), DOWN)\n",
    "            self.add(x_labels[i])\n",
    "\n",
    "    def move_dots_and_draw_curves(self):\n",
    "        origin_point = self.origin_point\n",
    "\n",
    "        self.t_offset = 0\n",
    "        rate = 0.09  # Slower rotation for longer animation\n",
    "\n",
    "        # Function to calculate arrow endpoints\n",
    "        def get_arrow_vector(angle_offset, magnitude):\n",
    "            angle = (self.t_offset + angle_offset) * TAU\n",
    "            return np.array([\n",
    "                origin_point[0] + magnitude * np.cos(angle),\n",
    "                origin_point[1] + magnitude * np.sin(angle),\n",
    "                0\n",
    "            ])\n",
    "\n",
    "        # Arrow 1 (A1)\n",
    "        magnitude1 = 1.5\n",
    "        def get_line_to_arrow1():\n",
    "            endpoint = get_arrow_vector(0, magnitude1)\n",
    "            return Arrow(origin_point, endpoint, color=BLUE, buff=0)\n",
    "\n",
    "        # Arrow 2 (A2)\n",
    "        magnitude2 = 2.5\n",
    "        def get_line_to_arrow2():\n",
    "            endpoint = get_arrow_vector(0.25, magnitude2)\n",
    "            return Arrow(origin_point, endpoint, color=WHITE, buff=0)\n",
    "       \n",
    "        # Assign arrows with updaters\n",
    "        self.arrow1 = always_redraw(get_line_to_arrow1)\n",
    "        self.arrow2 = always_redraw(get_line_to_arrow2)\n",
    "        \n",
    "\n",
    "        # Add arrows to the scene\n",
    "        self.add(self.arrow1, self.arrow2)\n",
    "\n",
    "        # Sinusoidal Curves\n",
    "        curve1 = VGroup()\n",
    "        curve1.add(Line(self.curve_start, self.curve_start))\n",
    "\n",
    "        curve2 = VGroup()\n",
    "        curve2.add(Line(self.curve_start, self.curve_start))\n",
    "\n",
    "        # Function to create a curve\n",
    "        def get_curve(dot, curve_group, color):\n",
    "            last_line = curve_group[-1]\n",
    "            x = self.curve_start[0] + self.t_offset * 4\n",
    "            y = dot.get_center()[1]\n",
    "            new_line = Line(last_line.get_end(), np.array([x, y, 0]), color=color)\n",
    "            curve_group.add(new_line)\n",
    "            return curve_group\n",
    "\n",
    "        # Dot objects\n",
    "        dot1 = Dot(radius=0.08, color=BLUE)\n",
    "        dot2 = Dot(radius=0.08, color=GREEN)\n",
    "\n",
    "        def update_dots(mob, dt):\n",
    "            self.t_offset += dt * rate\n",
    "            dot1.move_to(self.arrow1.get_end())\n",
    "            dot2.move_to(self.arrow2.get_end())\n",
    "            \n",
    "\n",
    "        dot1.add_updater(update_dots)\n",
    "        self.add(dot1, dot2)\n",
    "        \n",
    "        def get_line_to_curve(dot, color):\n",
    "            x = self.curve_start[0] + self.t_offset * 4\n",
    "            y = dot.get_center()[1]\n",
    "            return Line(dot.get_center(), np.array([x, y, 0]), color=color, stroke_width=2)\n",
    "\n",
    "        # Always redraw curves\n",
    "        sine_curve1 = always_redraw(lambda: get_curve(dot1, curve1, BLUE))\n",
    "        sine_curve2 = always_redraw(lambda: get_curve(dot2, curve2, WHITE))\n",
    "        \n",
    "        \n",
    "        dot_to_curve_line1 = always_redraw(lambda: get_line_to_curve(dot1, BLUE_A))\n",
    "        dot_to_curve_line2 = always_redraw(lambda: get_line_to_curve(dot2, GREEN_A))\n",
    "        \n",
    "\n",
    "        # Add curves\n",
    "        self.add(sine_curve1, sine_curve2, dot_to_curve_line1, dot_to_curve_line2)\n",
    "\n",
    "    def add_arrow_labels(self):\n",
    "        # Labels for A1, A2, and A\n",
    "        label1 = always_redraw(lambda: MathTex(r\"A_m\").next_to(self.arrow1.get_end(), UP))\n",
    "        label2 = always_redraw(lambda: MathTex(r\"U_m\").next_to(self.arrow2.get_end(), UP))\n",
    "        self.add(label1, label2)\n",
    "\n",
    "    def show_angle_arc(self):\n",
    "        # Arc to show the angle between arrows A1 and A2\n",
    "        def get_angle_arc():\n",
    "            return Arc(\n",
    "                radius=0.5,\n",
    "                start_angle=(self.t_offset % 1) * TAU,\n",
    "                angle=PI / 2,\n",
    "                arc_center=self.origin_point,\n",
    "                color=WHITE,\n",
    "            )\n",
    "\n",
    "        def get_angle_label():\n",
    "            arc_mid_angle = (self.t_offset % 1) * TAU + PI / 4\n",
    "            label_position = np.array([\n",
    "                self.origin_point[0] + 0.6 * np.cos(arc_mid_angle),\n",
    "                self.origin_point[1] + 0.6 * np.sin(arc_mid_angle),\n",
    "                0,\n",
    "            ])\n",
    "            return MathTex(r\"\\pi/2\").move_to(label_position)\n",
    "\n",
    "        arc = always_redraw(get_angle_arc)\n",
    "        angle_label = always_redraw(get_angle_label)\n",
    "\n",
    "        self.add(arc, angle_label)\n",
    "        \n",
    "%manim -qh -v WARNING SineCurveSumOfVectorsL0_f"
   ]
  },
  {
   "cell_type": "code",
   "execution_count": 303,
   "id": "8cc58704",
   "metadata": {},
   "outputs": [
    {
     "data": {
      "text/html": [
       "<pre style=\"white-space:pre;overflow-x:auto;line-height:normal;font-family:Menlo,'DejaVu Sans Mono',consolas,'Courier New',monospace\">Manim Community <span style=\"color: #008000; text-decoration-color: #008000\">v0.18.1</span>\n",
       "\n",
       "</pre>\n"
      ],
      "text/plain": [
       "Manim Community \u001b[32mv0.\u001b[0m\u001b[32m18.1\u001b[0m\n",
       "\n"
      ]
     },
     "metadata": {},
     "output_type": "display_data"
    },
    {
     "name": "stderr",
     "output_type": "stream",
     "text": [
      "                                                                                                                       \r"
     ]
    },
    {
     "data": {
      "text/html": [
       "<video src=\"media\\jupyter\\SineCurveSumOfVectorsC0_f@2024-11-30@19-14-35.mp4\" controls autoplay loop style=\"max-width: 60%;\"  >\n",
       "      Your browser does not support the <code>video</code> element.\n",
       "    </video>"
      ],
      "text/plain": [
       "<IPython.core.display.Video object>"
      ]
     },
     "metadata": {},
     "output_type": "display_data"
    }
   ],
   "source": [
    "from manim import *\n",
    "\n",
    "class SineCurveSumOfVectorsC0_f(Scene):\n",
    "    def construct(self):\n",
    "        t=Tex(\"Yrgyldylaryň goşulyşy\").to_edge(UP).scale(0.8)\n",
    "        a=Tex(r\"$@$\"+\"takykbilim\").to_corner(DR).scale(0.8)\n",
    "        \n",
    "#         self.add(t, a)\n",
    "        \n",
    "        self.show_axis()\n",
    "        self.move_dots_and_draw_curves()\n",
    "        self.add_arrow_labels()\n",
    "        self.show_angle_arc()\n",
    "        self.wait(30)  # Longer animation for full visualization\n",
    "\n",
    "    def show_axis(self):\n",
    "        # Main x-axis\n",
    "        x_start = np.array([-6, 0, 0])\n",
    "        x_end = np.array([6, 0, 0])\n",
    "\n",
    "        # Main y-axis\n",
    "        y_start = np.array([-4, -3, 0])\n",
    "        y_end = np.array([-4, 3, 0])\n",
    "\n",
    "        x_axis = Line(x_start, x_end)\n",
    "        y_axis = Line(y_start, y_end)\n",
    "\n",
    "        # Sine curve's y-axis\n",
    "        sine_y_start = np.array([-2, -3, 0])\n",
    "        sine_y_end = np.array([-2, 3, 0])\n",
    "        sine_y_axis = Line(sine_y_start, sine_y_end, color=WHITE, stroke_width=2)\n",
    "        \n",
    "#         add labels:\n",
    "        axis_x_label=MathTex(r\"\\theta=\\omega t\").move_to(x_axis.get_center()+RIGHT*6+DOWN)\n",
    "        axis_y_label1=MathTex(r\"U_m\").move_to(sine_y_axis.get_center()+UP*3+RIGHT*2).set_color(WHITE)\n",
    "        axis_y_label2=MathTex(r\"I_m\").next_to(axis_y_label1, RIGHT).set_color(BLUE)\n",
    "\n",
    "        self.add(x_axis, y_axis, sine_y_axis, axis_x_label, axis_y_label1, axis_y_label2)\n",
    "        self.add_x_labels()\n",
    "\n",
    "        self.origin_point = np.array([-4, 0, 0])\n",
    "        self.curve_start = np.array([-2, 0, 0])  # Added spacing for curves\n",
    "\n",
    "    def add_x_labels(self):\n",
    "        x_labels = [\n",
    "            MathTex(\"\\pi\"), MathTex(\"2 \\pi\"),\n",
    "            MathTex(\"3 \\pi\"), MathTex(\"4 \\pi\"),\n",
    "        ]\n",
    "\n",
    "        for i in range(len(x_labels)):\n",
    "            x_labels[i].next_to(np.array([-1 + 2 * i, 0, 0]), DOWN)\n",
    "            self.add(x_labels[i])\n",
    "\n",
    "    def move_dots_and_draw_curves(self):\n",
    "        origin_point = self.origin_point\n",
    "\n",
    "        self.t_offset = 0\n",
    "        rate = 0.09  # Slower rotation for longer animation\n",
    "\n",
    "        # Function to calculate arrow endpoints\n",
    "        def get_arrow_vector(angle_offset, magnitude):\n",
    "            angle = (self.t_offset + angle_offset) * TAU\n",
    "            return np.array([\n",
    "                origin_point[0] + magnitude * np.cos(angle),\n",
    "                origin_point[1] + magnitude * np.sin(angle),\n",
    "                0\n",
    "            ])\n",
    "\n",
    "        # Arrow 1 (A1)\n",
    "        magnitude1 = 2.5\n",
    "        def get_line_to_arrow1():\n",
    "            endpoint = get_arrow_vector(0, magnitude1)\n",
    "            return Arrow(origin_point, endpoint, color=WHITE, buff=0)\n",
    "\n",
    "        # Arrow 2 (A2)\n",
    "        magnitude2 = 1.5\n",
    "        def get_line_to_arrow2():\n",
    "            endpoint = get_arrow_vector(0.25, magnitude2)\n",
    "            return Arrow(origin_point, endpoint, color=BLUE, buff=0)\n",
    "       \n",
    "        # Assign arrows with updaters\n",
    "        self.arrow1 = always_redraw(get_line_to_arrow1)\n",
    "        self.arrow2 = always_redraw(get_line_to_arrow2)\n",
    "        \n",
    "\n",
    "        # Add arrows to the scene\n",
    "        self.add(self.arrow1, self.arrow2)\n",
    "\n",
    "        # Sinusoidal Curves\n",
    "        curve1 = VGroup()\n",
    "        curve1.add(Line(self.curve_start, self.curve_start))\n",
    "\n",
    "        curve2 = VGroup()\n",
    "        curve2.add(Line(self.curve_start, self.curve_start))\n",
    "\n",
    "        # Function to create a curve\n",
    "        def get_curve(dot, curve_group, color):\n",
    "            last_line = curve_group[-1]\n",
    "            x = self.curve_start[0] + self.t_offset * 4\n",
    "            y = dot.get_center()[1]\n",
    "            new_line = Line(last_line.get_end(), np.array([x, y, 0]), color=color)\n",
    "            curve_group.add(new_line)\n",
    "            return curve_group\n",
    "\n",
    "        # Dot objects\n",
    "        dot1 = Dot(radius=0.08, color=BLUE)\n",
    "        dot2 = Dot(radius=0.08, color=GREEN)\n",
    "\n",
    "        def update_dots(mob, dt):\n",
    "            self.t_offset += dt * rate\n",
    "            dot1.move_to(self.arrow1.get_end())\n",
    "            dot2.move_to(self.arrow2.get_end())\n",
    "            \n",
    "\n",
    "        dot1.add_updater(update_dots)\n",
    "        self.add(dot1, dot2)\n",
    "        \n",
    "        def get_line_to_curve(dot, color):\n",
    "            x = self.curve_start[0] + self.t_offset * 4\n",
    "            y = dot.get_center()[1]\n",
    "            return Line(dot.get_center(), np.array([x, y, 0]), color=color, stroke_width=2)\n",
    "\n",
    "        # Always redraw curves\n",
    "        sine_curve1 = always_redraw(lambda: get_curve(dot1, curve1, WHITE))\n",
    "        sine_curve2 = always_redraw(lambda: get_curve(dot2, curve2, BLUE))\n",
    "        \n",
    "        \n",
    "        dot_to_curve_line1 = always_redraw(lambda: get_line_to_curve(dot1, BLUE_A))\n",
    "        dot_to_curve_line2 = always_redraw(lambda: get_line_to_curve(dot2, GREEN_A))\n",
    "        \n",
    "\n",
    "        # Add curves\n",
    "        self.add(sine_curve1, sine_curve2, dot_to_curve_line1, dot_to_curve_line2)\n",
    "\n",
    "    def add_arrow_labels(self):\n",
    "        # Labels for A1, A2, and A\n",
    "        label1 = always_redraw(lambda: MathTex(r\"U_m\").next_to(self.arrow1.get_end(), UP))\n",
    "        label2 = always_redraw(lambda: MathTex(r\"I_m\").next_to(self.arrow2.get_end(), UP))\n",
    "        self.add(label1, label2)\n",
    "\n",
    "    def show_angle_arc(self):\n",
    "        # Arc to show the angle between arrows A1 and A2\n",
    "        def get_angle_arc():\n",
    "            return Arc(\n",
    "                radius=0.5,\n",
    "                start_angle=(self.t_offset % 1) * TAU,\n",
    "                angle=PI / 2,\n",
    "                arc_center=self.origin_point,\n",
    "                color=WHITE,\n",
    "            )\n",
    "\n",
    "        def get_angle_label():\n",
    "            arc_mid_angle = (self.t_offset % 1) * TAU + PI / 4\n",
    "            label_position = np.array([\n",
    "                self.origin_point[0] + 0.6 * np.cos(arc_mid_angle),\n",
    "                self.origin_point[1] + 0.6 * np.sin(arc_mid_angle),\n",
    "                0,\n",
    "            ])\n",
    "            return MathTex(r\"\\pi/2\").move_to(label_position)\n",
    "\n",
    "        arc = always_redraw(get_angle_arc)\n",
    "        angle_label = always_redraw(get_angle_label)\n",
    "\n",
    "        self.add(arc, angle_label)\n",
    "        \n",
    "%manim -qh -v WARNING SineCurveSumOfVectorsC0_f"
   ]
  },
  {
   "cell_type": "code",
   "execution_count": 331,
   "id": "ba4e7e40",
   "metadata": {},
   "outputs": [],
   "source": [
    "from manim import *\n",
    "import numpy as np \n",
    "\n",
    "class SineCurveSumOfVectors1_f(Scene):\n",
    "    def construct(self):\n",
    "        t=Tex(\"Yrgyldylaryň goşulyşy\").to_edge(UP).scale(0.8)\n",
    "        a=Tex(r\"$@$\"+\"takykbilim\").to_corner(DR).scale(0.8)\n",
    "        \n",
    "#         self.add(t, a)\n",
    "        \n",
    "        self.show_axis()\n",
    "        self.move_dots_and_draw_curves()\n",
    "        self.add_arrow_labels()\n",
    "        self.show_angle_arc()\n",
    "        self.wait(30)  # Longer animation for full visualization\n",
    "\n",
    "    def show_axis(self):\n",
    "        # Main x-axis\n",
    "        x_start = np.array([-6, 0, 0])\n",
    "        x_end = np.array([6, 0, 0])\n",
    "\n",
    "        # Main y-axis\n",
    "        y_start = np.array([-4, -3, 0])\n",
    "        y_end = np.array([-4, 3, 0])\n",
    "\n",
    "        x_axis = Line(x_start, x_end)\n",
    "        y_axis = Line(y_start, y_end)\n",
    "\n",
    "        # Sine curve's y-axis\n",
    "        sine_y_start = np.array([-2, -3, 0])\n",
    "        sine_y_end = np.array([-2, 3, 0])\n",
    "        sine_y_axis = Line(sine_y_start, sine_y_end, color=WHITE, stroke_width=2)\n",
    "\n",
    "        self.add(x_axis, y_axis, sine_y_axis)\n",
    "        self.add_x_labels()\n",
    "        \n",
    "#         adding axis labels \n",
    "        axis_x_label=MathTex(r\"\\theta=\\omega t\").move_to(x_axis.get_center()+RIGHT*6+DOWN)\n",
    "        axis_y_label1=MathTex(r\"a_1=A_1 \\sin{\\omega t}, \").move_to(sine_y_axis.get_center()+UP*3+RIGHT*2.5).set_color(BLUE).scale(0.8)\n",
    "        axis_y_label2=MathTex(r\"a_2=A_2 \\sin{(\\omega t+\\phi_0)}\").next_to(axis_y_label1, RIGHT).set_color(GREEN).scale(0.8)\n",
    "        axis_y_label3=MathTex(r\"a_3=a_1+a_2\", substrings_to_isolate=[r\"a_3\", r\"a_1\", r\"a_2\"]).next_to(axis_y_label2, DOWN).scale(0.8)\n",
    "        \n",
    "        axis_y_label3.set_color_by_tex(r\"a_3\", RED)\n",
    "        axis_y_label3.set_color_by_tex(r\"a_1\", BLUE)\n",
    "        axis_y_label3.set_color_by_tex(r\"a_2\", GREEN)\n",
    "        \n",
    "        self.add(axis_x_label, axis_y_label1, axis_y_label2, axis_y_label3)\n",
    "        \n",
    "        self.origin_point = np.array([-4, 0, 0])\n",
    "        self.curve_start = np.array([-2, 0, 0])  # Added spacing for curves\n",
    "\n",
    "    def add_x_labels(self):\n",
    "        x_labels = [\n",
    "            MathTex(\"\\pi\"), MathTex(\"2 \\pi\"),\n",
    "            MathTex(\"3 \\pi\"), MathTex(\"4 \\pi\"),\n",
    "        ]\n",
    "\n",
    "        for i in range(len(x_labels)):\n",
    "            x_labels[i].next_to(np.array([-1 + 2 * i, 0, 0]), DOWN)\n",
    "            self.add(x_labels[i])\n",
    "\n",
    "    def move_dots_and_draw_curves(self):\n",
    "        origin_point = self.origin_point\n",
    "\n",
    "        self.t_offset = 0\n",
    "        rate = 0.05  # Slower rotation for longer animation\n",
    "\n",
    "        # Function to calculate arrow endpoints\n",
    "        def get_arrow_vector(angle_offset, magnitude):\n",
    "            angle = (self.t_offset + angle_offset) * TAU\n",
    "            return np.array([\n",
    "                origin_point[0] + magnitude * np.cos(angle),\n",
    "                origin_point[1] + magnitude * np.sin(angle),\n",
    "                0\n",
    "            ])\n",
    "\n",
    "        # Arrow 1 (A1)\n",
    "        magnitude1 = 2\n",
    "        def get_line_to_arrow1():\n",
    "            endpoint = get_arrow_vector(0, magnitude1)\n",
    "            return Arrow(origin_point, endpoint, color=BLUE, buff=0)\n",
    "\n",
    "        # Arrow 2 (A2)\n",
    "        magnitude2 = 1.5\n",
    "        def get_line_to_arrow2():\n",
    "            endpoint = get_arrow_vector(0.125, magnitude2)\n",
    "            return Arrow(origin_point, endpoint, color=GREEN, buff=0)\n",
    "\n",
    "        # Arrow Sum (A)\n",
    "        def get_line_to_sum():\n",
    "            endpoint1 = get_arrow_vector(0, magnitude1)\n",
    "            endpoint2 = get_arrow_vector(0.125, magnitude2)\n",
    "            sum_vector = endpoint1 - origin_point + endpoint2 - origin_point + origin_point\n",
    "            return Arrow(origin_point, sum_vector, color=RED, buff=0)\n",
    "\n",
    "        # Assign arrows with updaters\n",
    "        self.arrow1 = always_redraw(get_line_to_arrow1)\n",
    "        self.arrow2 = always_redraw(get_line_to_arrow2)\n",
    "        self.arrow_sum = always_redraw(get_line_to_sum)\n",
    "\n",
    "        # Add arrows to the scene\n",
    "        self.add(self.arrow1, self.arrow2, self.arrow_sum)\n",
    "\n",
    "        # Sinusoidal Curves\n",
    "        curve1 = VGroup()\n",
    "        curve1.add(Line(self.curve_start, self.curve_start))\n",
    "\n",
    "        curve2 = VGroup()\n",
    "        curve2.add(Line(self.curve_start, self.curve_start))\n",
    "\n",
    "        curve_sum = VGroup()\n",
    "        curve_sum.add(Line(self.curve_start, self.curve_start))\n",
    "\n",
    "        # Function to create a curve\n",
    "        def get_curve(dot, curve_group, color):\n",
    "            last_line = curve_group[-1]\n",
    "            x = self.curve_start[0] + self.t_offset * 4\n",
    "            y = dot.get_center()[1]\n",
    "            new_line = Line(last_line.get_end(), np.array([x, y, 0]), color=color)\n",
    "            curve_group.add(new_line)\n",
    "            return curve_group\n",
    "\n",
    "        # Dot objects\n",
    "        dot1 = Dot(radius=0.08, color=BLUE)\n",
    "        dot2 = Dot(radius=0.08, color=GREEN)\n",
    "        dot_sum = Dot(radius=0.08, color=RED)\n",
    "\n",
    "        def update_dots(mob, dt):\n",
    "            self.t_offset += dt * rate\n",
    "            dot1.move_to(self.arrow1.get_end())\n",
    "            dot2.move_to(self.arrow2.get_end())\n",
    "            dot_sum.move_to(self.arrow_sum.get_end())\n",
    "\n",
    "        dot1.add_updater(update_dots)\n",
    "        self.add(dot1, dot2, dot_sum)\n",
    "        \n",
    "        def get_line_to_curve(dot, color):\n",
    "            x = self.curve_start[0] + self.t_offset * 4\n",
    "            y = dot.get_center()[1]\n",
    "            return Line(dot.get_center(), np.array([x, y, 0]), color=color, stroke_width=2)\n",
    "\n",
    "        # Always redraw curves\n",
    "        sine_curve1 = always_redraw(lambda: get_curve(dot1, curve1, BLUE))\n",
    "        sine_curve2 = always_redraw(lambda: get_curve(dot2, curve2, GREEN))\n",
    "        sine_curve_sum = always_redraw(lambda: get_curve(dot_sum, curve_sum, RED))\n",
    "        \n",
    "        dot_to_curve_line1 = always_redraw(lambda: get_line_to_curve(dot1, BLUE_A))\n",
    "        dot_to_curve_line2 = always_redraw(lambda: get_line_to_curve(dot2, GREEN_A))\n",
    "        dot_to_curve_line3 = always_redraw(lambda: get_line_to_curve(dot_sum, RED_A))\n",
    "\n",
    "        # Add curves\n",
    "        self.add(sine_curve1, sine_curve2, sine_curve_sum, dot_to_curve_line1, dot_to_curve_line2, dot_to_curve_line3)\n",
    "\n",
    "    def add_arrow_labels(self):\n",
    "        # Labels for A1, A2, and A\n",
    "        label1 = always_redraw(lambda: MathTex(\"A_1\").next_to(self.arrow1.get_end(), UP))\n",
    "        label2 = always_redraw(lambda: MathTex(\"A_2\").next_to(self.arrow2.get_end(), UP))\n",
    "        label_sum = always_redraw(lambda: MathTex(\"A\").next_to(self.arrow_sum.get_end(), UP))\n",
    "        self.add(label1, label2, label_sum)\n",
    "\n",
    "    def show_angle_arc(self):\n",
    "        # Arc to show the angle between arrows A1 and A2\n",
    "        def get_angle_arc():\n",
    "            return Arc(\n",
    "                radius=0.5,\n",
    "                start_angle=(self.t_offset % 1) * TAU,\n",
    "                angle=PI / 4,\n",
    "                arc_center=self.origin_point,\n",
    "                color=WHITE,\n",
    "            )\n",
    "\n",
    "        def get_angle_label():\n",
    "            arc_mid_angle = (self.t_offset % 1) * TAU + PI / 4\n",
    "            label_position = np.array([\n",
    "                self.origin_point[0] + 0.6 * np.cos(arc_mid_angle),\n",
    "                self.origin_point[1] + 0.6 * np.sin(arc_mid_angle),\n",
    "                0,\n",
    "            ])\n",
    "            return MathTex(r\"\\phi_0\").move_to(label_position)\n",
    "\n",
    "        arc = always_redraw(get_angle_arc)\n",
    "        angle_label = always_redraw(get_angle_label)\n",
    "\n",
    "        self.add(arc, angle_label)\n"
   ]
  },
  {
   "cell_type": "code",
   "execution_count": 332,
   "id": "3b6bfae6",
   "metadata": {},
   "outputs": [
    {
     "data": {
      "text/html": [
       "<pre style=\"white-space:pre;overflow-x:auto;line-height:normal;font-family:Menlo,'DejaVu Sans Mono',consolas,'Courier New',monospace\">Manim Community <span style=\"color: #008000; text-decoration-color: #008000\">v0.18.1</span>\n",
       "\n",
       "</pre>\n"
      ],
      "text/plain": [
       "Manim Community \u001b[32mv0.\u001b[0m\u001b[32m18.1\u001b[0m\n",
       "\n"
      ]
     },
     "metadata": {},
     "output_type": "display_data"
    },
    {
     "name": "stderr",
     "output_type": "stream",
     "text": [
      "                                                                                                                       \r"
     ]
    },
    {
     "data": {
      "text/html": [
       "<video src=\"media\\jupyter\\SineCurveSumOfVectors1_f@2024-11-30@20-00-50.mp4\" controls autoplay loop style=\"max-width: 60%;\"  >\n",
       "      Your browser does not support the <code>video</code> element.\n",
       "    </video>"
      ],
      "text/plain": [
       "<IPython.core.display.Video object>"
      ]
     },
     "metadata": {},
     "output_type": "display_data"
    }
   ],
   "source": [
    "%manim -qh -v WARNING SineCurveSumOfVectors1_f"
   ]
  },
  {
   "cell_type": "code",
   "execution_count": 28,
   "id": "d76f5767",
   "metadata": {},
   "outputs": [
    {
     "data": {
      "text/html": [
       "<pre style=\"white-space:pre;overflow-x:auto;line-height:normal;font-family:Menlo,'DejaVu Sans Mono',consolas,'Courier New',monospace\">Manim Community <span style=\"color: #008000; text-decoration-color: #008000\">v0.18.1</span>\n",
       "\n",
       "</pre>\n"
      ],
      "text/plain": [
       "Manim Community \u001b[32mv0.\u001b[0m\u001b[32m18.1\u001b[0m\n",
       "\n"
      ]
     },
     "metadata": {},
     "output_type": "display_data"
    },
    {
     "name": "stderr",
     "output_type": "stream",
     "text": [
      "                                                                                                                       \r"
     ]
    },
    {
     "data": {
      "text/html": [
       "<video src=\"media\\jupyter\\VectorSum@2024-11-28@20-36-12.mp4\" controls autoplay loop style=\"max-width: 60%;\"  >\n",
       "      Your browser does not support the <code>video</code> element.\n",
       "    </video>"
      ],
      "text/plain": [
       "<IPython.core.display.Video object>"
      ]
     },
     "metadata": {},
     "output_type": "display_data"
    }
   ],
   "source": [
    "from manim import * \n",
    "import numpy as np\n",
    "\n",
    "class VectorSum(Scene):\n",
    "    def construct(self):        \n",
    "        dot = Dot(ORIGIN)\n",
    "        \n",
    "        arrow1 = Arrow(ORIGIN, [3, 0, 0], buff=0).set_color(BLUE)\n",
    "        arrow2 = Arrow(ORIGIN, [2, 2, 0], buff=0).set_color(GREEN)\n",
    "        arrow3 = Arrow(ORIGIN, [5, 2, 0], buff=0).set_color(RED)\n",
    "        \n",
    "        A1_label=MathTex(r\"A_1\").set_color(BLUE).next_to(arrow1, DOWN)\n",
    "        A2_label=MathTex(r\"A_2\").set_color(GREEN).next_to(arrow2, UP)\n",
    "        A3_label=MathTex(r\"A_3\").set_color(RED).next_to(arrow3, RIGHT)\n",
    "        \n",
    "        arrow1_copy=DashedLine(start=np.array([2, 2, 0]), end=np.array([5, 2, 0]), dashed_ratio=0.3)\n",
    "        arrow2_copy=DashedLine(start=np.array([3, 0, 0]), end=np.array([5, 2, 0]), dashed_ratio=0.3)\n",
    "        \n",
    "        \n",
    "        numberplane = NumberPlane(background_line_style={\n",
    "                \"stroke_color\": BLUE,\n",
    "                \"stroke_width\": 1,\n",
    "                \"stroke_opacity\": 0.6\n",
    "            })\n",
    "        \n",
    "        angle_arc = Angle(arrow1, arrow2, radius=1)\n",
    "        angle_label=MathTex(r\"\\phi_0\").next_to(angle_arc, RIGHT, buff=0.2)\n",
    "        \n",
    "        angle_arc1=Angle(arrow1, arrow3, radius=2, color=YELLOW)\n",
    "        angle_label1=MathTex(r\"\\gamma_0\", color=YELLOW).next_to(angle_arc1, RIGHT, buff=0.2)\n",
    "        \n",
    "        \n",
    "        \n",
    "        g1=VGroup(numberplane, dot, arrow1, arrow2, arrow3, \n",
    "                 arrow1_copy, arrow2_copy, angle_arc1,angle_label1,\n",
    "                 A1_label, A2_label, A3_label, angle_arc, angle_label).move_to(LEFT*4.5)\n",
    "        \n",
    "#         Equations:\n",
    "        a1=MathTex(r\"a_1=A_1 \\sin{\\omega t}\", substrings_to_isolate=[r\"A_1\"]).set_color_by_tex(r\"A_1\", color=BLUE)\n",
    "        a2=MathTex(r\"a_2=A_2 \\sin(\\omega t+\\phi_0)\", substrings_to_isolate=[r\"A_2\"]).set_color_by_tex(r\"A_2\", color=GREEN)\n",
    "        a3=MathTex(r\"a_3=a_1+a_2\")\n",
    "        \n",
    "        a3_f=MathTex(r\"a_3=A_3 \\sin(\\omega t+\\gamma_0)\", substrings_to_isolate=[r\"A_3\", r\"\\gamma_0\"]).set_color_by_tex(r\"A_3\", color=RED)\n",
    "        a3_f.set_color_by_tex(r\"\\gamma_0\", color=YELLOW)\n",
    "        \n",
    "        g0=MathTex(r\" \\gamma_0=\\tan^{-1} \\Big( \\frac{A_2 \\sin{\\phi_0}}{A_1+A_2\\cos{\\phi_0}} \\Big)\", \n",
    "                  substrings_to_isolate=[r\"\\gamma_0\"]).scale(0.7)\n",
    "        g0.set_color_by_tex(r\"\\gamma_0\", YELLOW)\n",
    "        A3=MathTex(r\"A_3=\\sqrt{A_1^2+A_2^2+2A_1 A_2 \\cos\\gamma_0}}\", substrings_to_isolate=[r\"A_3\", r\"\\gamma_0\"]).scale(0.7)\n",
    "        A3.set_color_by_tex(r\"\\gamma_0\", YELLOW)\n",
    "        A3.set_color_by_tex(r\"A_3\", RED)\n",
    "        \n",
    "        \n",
    "        eqs=VGroup(a1, a2, a3, a3_f, A3, g0).arrange(DOWN, aligned_edge=LEFT,buff=0.5).scale(0.8).move_to(RIGHT*4.5)\n",
    "        \n",
    "#         Start animations:\n",
    "        animations = [Create(VGroup(numberplane, dot), run_time=3, lag_ratio=0.1), \n",
    "                      Write(a1), Write(a2), \n",
    "                      Transform(a1.copy(), VGroup(arrow1, A1_label)), \n",
    "                      Transform(a2.copy(), VGroup(arrow2, A2_label)), \n",
    "                      Create(VGroup(angle_arc, angle_label)), \n",
    "                      Write(a3), Transform(arrow1.copy(), arrow1_copy), \n",
    "                      Transform(arrow2.copy(), arrow2_copy), \n",
    "                      GrowFromPoint(arrow3, numberplane.get_center()), Create(VGroup(angle_arc1, angle_label1)), Write(A3_label), \n",
    "                      Write(a3_f), Write(A3), Write(g0)]\n",
    "\n",
    "        # Play each animation with a pause in between\n",
    "        for i in animations:\n",
    "            self.play(i)\n",
    "            self.wait(1)  #\n",
    "        \n",
    "        \n",
    "        \n",
    "        \n",
    "        \n",
    "%manim -qh -v WARNING VectorSum"
   ]
  },
  {
   "cell_type": "code",
   "execution_count": 1,
   "id": "12e6001e",
   "metadata": {},
   "outputs": [
    {
     "data": {
      "text/html": [
       "<pre style=\"white-space:pre;overflow-x:auto;line-height:normal;font-family:Menlo,'DejaVu Sans Mono',consolas,'Courier New',monospace\">Manim Community <span style=\"color: #008000; text-decoration-color: #008000\">v0.18.1</span>\n",
       "\n",
       "</pre>\n"
      ],
      "text/plain": [
       "Manim Community \u001b[32mv0.\u001b[0m\u001b[32m18.1\u001b[0m\n",
       "\n"
      ]
     },
     "metadata": {},
     "output_type": "display_data"
    },
    {
     "name": "stderr",
     "output_type": "stream",
     "text": [
      "                                                                                                                       \r"
     ]
    },
    {
     "data": {
      "text/html": [
       "<video src=\"media\\jupyter\\SineWaveWithPhaseAnimation_f@2024-12-01@16-05-54.mp4\" controls autoplay loop style=\"max-width: 60%;\"  >\n",
       "      Your browser does not support the <code>video</code> element.\n",
       "    </video>"
      ],
      "text/plain": [
       "<IPython.core.display.Video object>"
      ]
     },
     "metadata": {},
     "output_type": "display_data"
    }
   ],
   "source": [
    "from manim import *\n",
    "\n",
    "class SineWaveWithPhaseAnimation_f(Scene):\n",
    "    def construct(self):\n",
    "        # Parameters\n",
    "        omega = 1  # Angular frequency\n",
    "        phi_0 = ValueTracker(0)  # Phase shift tracker\n",
    "\n",
    "        # Create the first sine wave (with dynamic phase change)\n",
    "        sine1 = always_redraw(\n",
    "            lambda: FunctionGraph(\n",
    "                lambda t: np.sin(omega * t + phi_0.get_value()), x_range=[-2 * PI, 2 * PI], color=BLUE\n",
    "            ).scale(0.8).shift(UP * 2)\n",
    "        )\n",
    "        sine1_label = always_redraw(\n",
    "            lambda: MathTex(r\"A_1 \\sin(\\omega t)\").next_to(sine1, UP).scale(0.6)\n",
    "        )\n",
    "\n",
    "        # Create the second sine wave (with dynamic phase change)\n",
    "        sine2 = always_redraw(\n",
    "            lambda: FunctionGraph(\n",
    "                lambda t: 1.5*np.sin(omega * t + PI/4+phi_0.get_value()), x_range=[-2 * PI, 2 * PI], color=GREEN\n",
    "            ).scale(0.8).shift(DOWN * 2)\n",
    "        )\n",
    "        sine2_label = always_redraw(\n",
    "            lambda: MathTex(r\"A_2 \\sin(\\omega t + \\phi_0)\").next_to(sine2, UP).scale(0.6)\n",
    "        )\n",
    "\n",
    "        # Add a '+' sign between the waves\n",
    "        plus_sign = MathTex(\"+\").scale(2).move_to((sine1.get_bottom() + sine2.get_top()) / 2)\n",
    "\n",
    "        # Add all elements to the scene\n",
    "        self.add(sine1, sine1_label, sine2, sine2_label, plus_sign)\n",
    "\n",
    "        # Animate the phase change\n",
    "        self.play(phi_0.animate.set_value(2 * PI), run_time=10, rate_func=linear)\n",
    "        self.wait()\n",
    "\n",
    "        \n",
    "%manim -qh -v WARNING SineWaveWithPhaseAnimation_f"
   ]
  },
  {
   "cell_type": "markdown",
   "id": "c55fd3d2",
   "metadata": {},
   "source": [
    "## AC circuits "
   ]
  },
  {
   "cell_type": "markdown",
   "id": "aea56b6a",
   "metadata": {},
   "source": [
    "### 1. Only resistor "
   ]
  },
  {
   "cell_type": "code",
   "execution_count": 68,
   "id": "44e1c264",
   "metadata": {},
   "outputs": [
    {
     "data": {
      "text/html": [
       "<pre style=\"white-space:pre;overflow-x:auto;line-height:normal;font-family:Menlo,'DejaVu Sans Mono',consolas,'Courier New',monospace\">Manim Community <span style=\"color: #008000; text-decoration-color: #008000\">v0.18.1</span>\n",
       "\n",
       "</pre>\n"
      ],
      "text/plain": [
       "Manim Community \u001b[32mv0.\u001b[0m\u001b[32m18.1\u001b[0m\n",
       "\n"
      ]
     },
     "metadata": {},
     "output_type": "display_data"
    },
    {
     "name": "stderr",
     "output_type": "stream",
     "text": [
      "                                                                                                                       \r"
     ]
    },
    {
     "data": {
      "text/html": [
       "<video src=\"media\\jupyter\\Resistor_f@2024-11-30@11-01-05.mp4\" controls autoplay loop style=\"max-width: 60%;\"  >\n",
       "      Your browser does not support the <code>video</code> element.\n",
       "    </video>"
      ],
      "text/plain": [
       "<IPython.core.display.Video object>"
      ]
     },
     "metadata": {},
     "output_type": "display_data"
    }
   ],
   "source": [
    "from manim import * \n",
    "\n",
    "class Resistor_f(Scene):\n",
    "    def construct(self):\n",
    "        \n",
    "        u=MathTex(r\"u=U_m \\sin\", r\"{\\omega t}\")\n",
    "        om_eq=MathTex(r\"i=\\frac{u}{R}\")\n",
    "        i=MathTex(r\"i=\\frac{U_m}{R}\\sin \\omega t \")\n",
    "        i_f=MathTex(r\"i=I_m\", r\" \\sin\", r\" {\\omega t}\", substrings_to_isolate=[r\"I_m\"])\n",
    "        i_f.set_color_by_tex(r\"I_m\", BLUE)\n",
    "        \n",
    "        r_c= ImageMobject(\"AC circuits\\\\1\").to_edge(LEFT)\n",
    "        \n",
    "        box_1=SurroundingRectangle(u[1], buff=0.1, color=YELLOW)\n",
    "        box_2=SurroundingRectangle(i_f[3], buff=0.1, color=YELLOW)\n",
    "        \n",
    "        \n",
    "        eqs=VGroup(VGroup(u, box_1), om_eq, i, VGroup(i_f, box_2)).arrange(DOWN, aligned_edge=LEFT,buff=0.5).move_to(RIGHT)\n",
    "        \n",
    "        box_2.shift(UP*3)\n",
    "        \n",
    "        u_arr=Arrow(start=LEFT, end=4*RIGHT)\n",
    "        i_arr=Arrow(start=LEFT, end=RIGHT*2.5, color=BLUE)\n",
    "        \n",
    "        u_label=MathTex(r\"U_m\").move_to(u_arr.get_end()+DOWN*0.5)\n",
    "        i_label=MathTex(r\"I_m\").move_to(i_arr.get_end()+DOWN*0.5).set_color(BLUE)\n",
    "        \n",
    "        fazor1=VGroup(u_arr, i_arr, u_label, i_label).scale(0.9).move_to(RIGHT*1.5+DOWN*2)\n",
    "        \n",
    "        anim=[FadeIn(r_c), Write(u), Write(om_eq), Write(i), Write(i_f), \n",
    "              FadeOut(VGroup(om_eq, i)), i_f.animate.shift(UP*3), \n",
    "              Create(box_1), Create(box_2), Uncreate(VGroup(box_1, box_2))]\n",
    "        \n",
    "        for a in anim:\n",
    "            self.play(a)\n",
    "            self.wait(1)\n",
    "            \n",
    "        self.wait(10)\n",
    "        \n",
    "        self.play(Create(fazor1))\n",
    "        self.wait(3)\n",
    "        \n",
    "        \n",
    "%manim -qh -v WARNING Resistor_f"
   ]
  },
  {
   "cell_type": "code",
   "execution_count": 69,
   "id": "dda61ba2",
   "metadata": {},
   "outputs": [
    {
     "data": {
      "text/html": [
       "<pre style=\"white-space:pre;overflow-x:auto;line-height:normal;font-family:Menlo,'DejaVu Sans Mono',consolas,'Courier New',monospace\">Manim Community <span style=\"color: #008000; text-decoration-color: #008000\">v0.18.1</span>\n",
       "\n",
       "</pre>\n"
      ],
      "text/plain": [
       "Manim Community \u001b[32mv0.\u001b[0m\u001b[32m18.1\u001b[0m\n",
       "\n"
      ]
     },
     "metadata": {},
     "output_type": "display_data"
    },
    {
     "name": "stderr",
     "output_type": "stream",
     "text": [
      "                                                                                                                       \r"
     ]
    },
    {
     "data": {
      "text/html": [
       "<video src=\"media\\jupyter\\Inductor_f@2024-11-30@11-02-31.mp4\" controls autoplay loop style=\"max-width: 60%;\"  >\n",
       "      Your browser does not support the <code>video</code> element.\n",
       "    </video>"
      ],
      "text/plain": [
       "<IPython.core.display.Video object>"
      ]
     },
     "metadata": {},
     "output_type": "display_data"
    }
   ],
   "source": [
    "from manim import * \n",
    "\n",
    "class Inductor_f(Scene):\n",
    "    def construct(self):\n",
    "        \n",
    "        i=MathTex(r\"i=I_m \\sin\", r\"\\omega t\", substrings_to_isolate=[r\"I_m\"])\n",
    "        i.set_color_by_tex(r\"I_m\", BLUE)\n",
    "        \n",
    "        u=MathTex(r\"u=L \\cdot \\frac{di}{dt}\", r\"=L I_m \\frac{d}{dt}(\\sin{\\omega t})\", r\"=\\omega L I_m \\cos{\\omega t}\")\n",
    "  \n",
    "        u3=MathTex(r\"=\", r\"\\omega L\", r\" I_m \\sin{(\\omega t+\\frac{\\pi}{2}})\")\n",
    "        u4=MathTex(r\"=\", r\"I_m\", r\"X_L\", r\"\\sin{(\\omega t+\\frac{\\pi}{2})\")\n",
    "        u_f=MathTex(r\"u=U_m \\sin(\\omega t+\", r\"\\frac{\\pi}{2})\")\n",
    "        \n",
    "        X_L=MathTex(r\"X_L=\\omega L\").move_to(LEFT*4).set_color(YELLOW)\n",
    "        \n",
    "        L_c= ImageMobject(\"AC circuits\\\\3\").to_edge(LEFT)\n",
    "        \n",
    "        box_1=SurroundingRectangle(i[3], buff=0.1, color=YELLOW)\n",
    "        box_2=SurroundingRectangle(u_f[1], buff=0.1, color=YELLOW)\n",
    "        \n",
    "        ib=VGroup(i, box_1)\n",
    "        u_fb=VGroup(u_f, box_2)\n",
    "        \n",
    "                      \n",
    "        eqs=VGroup(ib, u, u3, u4, u_fb).arrange(DOWN, aligned_edge=LEFT,buff=0.5).scale(0.8).move_to(RIGHT*3)\n",
    "        box_2.shift(UP*4)\n",
    "        \n",
    "        u_arr=Arrow(start=ORIGIN, end=4*UP, buff=0)\n",
    "        i_arr=Arrow(start=ORIGIN, end=RIGHT*2.5, buff=0, color=BLUE)\n",
    "        \n",
    "        dot= Dot(point=ORIGIN)\n",
    "        angle=Angle(u_arr, i_arr,  radius=0.8, dot=True, other_angle=True)\n",
    "        \n",
    "        u_label=MathTex(r\"U_m\").move_to(u_arr.get_end()+RIGHT*0.5)\n",
    "        i_label=MathTex(r\"I_m\").move_to(i_arr.get_end()+DOWN*0.5).set_color(BLUE)\n",
    "        \n",
    "        fazor1=VGroup(u_arr, i_arr, u_label, i_label, dot, angle).scale(0.9).move_to(RIGHT*1.5+DOWN*1.5)\n",
    "        \n",
    "        anim=[\n",
    "            FadeIn(L_c), Write(i), Write(u), Write(u3), Transform(u3[1].copy(), X_L), Write(u4), Write(u_f),\n",
    "            Unwrite(VGroup(u, u3, u4)), u_f.animate.shift(UP*4), Create(box_1), Create(box_2), Uncreate(VGroup(box_1, box_2))\n",
    "        ]\n",
    "        \n",
    "        for a in anim:\n",
    "            self.play(a)\n",
    "            self.wait(1)\n",
    "            \n",
    "        self.wait(10)\n",
    "        \n",
    "        self.play(Create(fazor1))\n",
    "        \n",
    "        self.wait(3)\n",
    "        \n",
    "%manim -qh -v WARNING Inductor_f"
   ]
  },
  {
   "cell_type": "code",
   "execution_count": 70,
   "id": "49286f76",
   "metadata": {},
   "outputs": [
    {
     "data": {
      "text/html": [
       "<pre style=\"white-space:pre;overflow-x:auto;line-height:normal;font-family:Menlo,'DejaVu Sans Mono',consolas,'Courier New',monospace\">Manim Community <span style=\"color: #008000; text-decoration-color: #008000\">v0.18.1</span>\n",
       "\n",
       "</pre>\n"
      ],
      "text/plain": [
       "Manim Community \u001b[32mv0.\u001b[0m\u001b[32m18.1\u001b[0m\n",
       "\n"
      ]
     },
     "metadata": {},
     "output_type": "display_data"
    },
    {
     "name": "stderr",
     "output_type": "stream",
     "text": [
      "                                                                                                                       \r"
     ]
    },
    {
     "data": {
      "text/html": [
       "<video src=\"media\\jupyter\\Capacitor_f@2024-11-30@11-03-44.mp4\" controls autoplay loop style=\"max-width: 60%;\"  >\n",
       "      Your browser does not support the <code>video</code> element.\n",
       "    </video>"
      ],
      "text/plain": [
       "<IPython.core.display.Video object>"
      ]
     },
     "metadata": {},
     "output_type": "display_data"
    }
   ],
   "source": [
    "class Capacitor_f(Scene):\n",
    "    def construct(self):\n",
    "        \n",
    "        C_image=ImageMobject(\"AC circuits\\\\2\").to_edge(LEFT)\n",
    "        \n",
    "        u=MathTex(r\"u=U_m \\sin\", r\"\\omega t\").move_to(UP+RIGHT)\n",
    "        \n",
    "        i=MathTex(r\"i &=C \\frac{dv}{dt} \\\\\", \n",
    "                  r\" &=C \\frac{d}{dt}(U_m \\sin{\\omega t})\\\\\", \n",
    "                  r\" &=\", r\"\\omega C\", r\" U_m \\cos{\\omega t}\\\\\", \n",
    "                  r\" &=\\frac{U_m}{X_C} \\sin{(\\omega t+ \\frac{\\pi}{2})}\\\\\",\n",
    "                 ).next_to(u, DOWN)\n",
    "        \n",
    "        i_f=MathTex(r\"i=I_m \\sin(\\omega t+\", r\" \\frac{\\pi}{2})\",substrings_to_isolate=[r\"I_m\"])\n",
    "        i_f.set_color_by_tex(r\"I_m\", BLUE)\n",
    "        \n",
    "        X_C=MathTex(r\"X_C=\\frac{1}{\\omega C}\").scale(0.8).move_to(LEFT*4+DOWN*0.5).set_color(YELLOW)\n",
    "           \n",
    "        box_1=SurroundingRectangle(u[1], buff=0.1)\n",
    "        box_2=SurroundingRectangle(i_f[-1], buff=0.1)\n",
    "        \n",
    "        ub=VGroup(u, box_1)\n",
    "        ib=VGroup(i_f, box_2)\n",
    "        \n",
    "        eqs=VGroup(ub, i, ib).arrange(DOWN, aligned_edge=LEFT,buff=0.5).scale(0.8).move_to(RIGHT*2)\n",
    "        \n",
    "        box_2.shift(UP*4)\n",
    "        \n",
    "        i_arr=Arrow(start=ORIGIN, end=2.5*UP, buff=0, color=BLUE)\n",
    "        u_arr=Arrow(start=ORIGIN, end=RIGHT*4, buff=0)\n",
    "        \n",
    "        dot= Dot(point=ORIGIN)\n",
    "        angle=Angle(u_arr, i_arr,  radius=0.8, dot=True)\n",
    "        \n",
    "        u_label=MathTex(r\"U_m\").move_to(u_arr.get_end()+RIGHT*0.5)\n",
    "        i_label=MathTex(r\"I_m\").move_to(i_arr.get_end()+RIGHT*0.5).set_color(BLUE)\n",
    "        \n",
    "        fazor1=VGroup(u_arr, i_arr, u_label, i_label, dot, angle).scale(0.9).move_to(RIGHT*1.5+DOWN*1.5)\n",
    "        \n",
    "        \n",
    "        \n",
    "        anim=[\n",
    "            FadeIn(C_image), Write(u), Write(i), Transform(i[3].copy(), X_C), Write(i_f), Unwrite(i), i_f.animate.shift(UP*4), \n",
    "            Create(box_1), Create(box_2), Uncreate(box_1), Uncreate(box_2)\n",
    "        ]\n",
    "        \n",
    "        for a in anim:\n",
    "            self.play(a)\n",
    "            self.wait(1)\n",
    "            \n",
    "        self.wait(10)\n",
    "        \n",
    "        self.play(Create(fazor1))\n",
    "        \n",
    "        self.wait(3)\n",
    "        \n",
    "        \n",
    "%manim -qh -v WARNING Capacitor_f"
   ]
  },
  {
   "cell_type": "code",
   "execution_count": 93,
   "id": "37f437bb",
   "metadata": {},
   "outputs": [
    {
     "data": {
      "text/html": [
       "<pre style=\"white-space:pre;overflow-x:auto;line-height:normal;font-family:Menlo,'DejaVu Sans Mono',consolas,'Courier New',monospace\">Manim Community <span style=\"color: #008000; text-decoration-color: #008000\">v0.18.1</span>\n",
       "\n",
       "</pre>\n"
      ],
      "text/plain": [
       "Manim Community \u001b[32mv0.\u001b[0m\u001b[32m18.1\u001b[0m\n",
       "\n"
      ]
     },
     "metadata": {},
     "output_type": "display_data"
    },
    {
     "name": "stderr",
     "output_type": "stream",
     "text": [
      "                                                                                                                       \r"
     ]
    },
    {
     "data": {
      "text/html": [
       "<video src=\"media\\jupyter\\Phasor_summary_f@2024-11-30@11-44-40.mp4\" controls autoplay loop style=\"max-width: 60%;\"  >\n",
       "      Your browser does not support the <code>video</code> element.\n",
       "    </video>"
      ],
      "text/plain": [
       "<IPython.core.display.Video object>"
      ]
     },
     "metadata": {},
     "output_type": "display_data"
    }
   ],
   "source": [
    "class Phasor_summary_f(Scene):\n",
    "    def construct(self):\n",
    "        r_c= ImageMobject(\"AC circuits\\\\1\").to_edge(LEFT).scale(0.6).shift(UP)\n",
    "        L_c= ImageMobject(\"AC circuits\\\\3\").scale(0.6).shift(UP)\n",
    "        C_image=ImageMobject(\"AC circuits\\\\2\").to_edge(RIGHT).scale(0.6).shift(UP)\n",
    "        \n",
    "        X_L=MathTex(r\"X_L=\\omega L\").set_color(YELLOW).shift(UP).scale(0.6)\n",
    "        X_C=MathTex(r\"X_C=\\frac{1}{\\omega C}\").scale(0.5).move_to(RIGHT*4+UP*.8).set_color(YELLOW)\n",
    "\n",
    "        \n",
    "#         Phasor for R:\n",
    "        u_arr1=Arrow(start=LEFT, end=4*RIGHT)\n",
    "        i_arr1=Arrow(start=LEFT, end=RIGHT*2.5, color=BLUE)\n",
    "        \n",
    "        u_label1=MathTex(r\"U_m\").move_to(u_arr1.get_end()+DOWN*0.5)\n",
    "        i_label1=MathTex(r\"I_m\").move_to(i_arr1.get_end()+DOWN*0.5).set_color(BLUE)\n",
    "        \n",
    "        R_phasor=VGroup(u_arr1, i_arr1, u_label1, i_label1).scale(0.5).move_to(LEFT*4+DOWN*3)\n",
    "        \n",
    "#         Phasor for X_C\n",
    "        u_arr2=Arrow(start=ORIGIN, end=4*UP, buff=0)\n",
    "        i_arr2=Arrow(start=ORIGIN, end=RIGHT*2.5, buff=0, color=BLUE)\n",
    "        \n",
    "        dot2= Dot(point=ORIGIN)\n",
    "        angle2=Angle(u_arr2, i_arr2,  radius=0.8, dot=True, other_angle=True)\n",
    "        \n",
    "        u_label2=MathTex(r\"U_m\").move_to(u_arr2.get_end()+RIGHT*0.5)\n",
    "        i_label2=MathTex(r\"I_m\").move_to(i_arr2.get_end()+DOWN*0.5).set_color(BLUE)\n",
    "        \n",
    "        L_phasor=VGroup(u_arr2, i_arr2, u_label2, i_label2, dot2, angle2).scale(0.5).move_to(DOWN*2)\n",
    "        \n",
    "\n",
    "        \n",
    "#         Phasor for X_L\n",
    "        i_arr3=Arrow(start=ORIGIN, end=2.5*UP, buff=0, color=BLUE)\n",
    "        u_arr3=Arrow(start=ORIGIN, end=RIGHT*4, buff=0)\n",
    "        \n",
    "        dot3= Dot(point=ORIGIN)\n",
    "        angle3=Angle(u_arr3, i_arr3,  radius=0.8, dot=True)\n",
    "        \n",
    "        u_label3=MathTex(r\"U_m\").move_to(u_arr3.get_end()+RIGHT*0.5)\n",
    "        i_label3=MathTex(r\"I_m\").move_to(i_arr3.get_end()+RIGHT*0.5).set_color(BLUE)\n",
    "        \n",
    "        C_phasor=VGroup(u_arr3, i_arr3, u_label3, i_label3, dot3, angle3).scale(0.5).move_to(RIGHT*4+DOWN*2.2)\n",
    "        \n",
    "\n",
    "        \n",
    "        anim=[\n",
    "            GrowFromPoint(r_c, [0, 4, 0]), Create(R_phasor), \n",
    "            GrowFromPoint(L_c, [0, 4, 0]), Create(L_phasor), Write(X_L), \n",
    "            GrowFromPoint(C_image, [0, 4, 0]), Create(C_phasor), Write(X_C)\n",
    "        ]\n",
    "        \n",
    "        for a in anim: \n",
    "            self.play(a)\n",
    "            self.wait(1)\n",
    "        \n",
    "        self.wait(3)\n",
    "        \n",
    "        \n",
    "%manim -qh -v WARNING Phasor_summary_f"
   ]
  },
  {
   "cell_type": "code",
   "execution_count": 284,
   "id": "58899395",
   "metadata": {},
   "outputs": [
    {
     "data": {
      "text/html": [
       "<pre style=\"white-space:pre;overflow-x:auto;line-height:normal;font-family:Menlo,'DejaVu Sans Mono',consolas,'Courier New',monospace\">Manim Community <span style=\"color: #008000; text-decoration-color: #008000\">v0.18.1</span>\n",
       "\n",
       "</pre>\n"
      ],
      "text/plain": [
       "Manim Community \u001b[32mv0.\u001b[0m\u001b[32m18.1\u001b[0m\n",
       "\n"
      ]
     },
     "metadata": {},
     "output_type": "display_data"
    },
    {
     "name": "stderr",
     "output_type": "stream",
     "text": [
      "                                                                                                                       \r"
     ]
    },
    {
     "data": {
      "text/html": [
       "<video src=\"media\\jupyter\\Simple_solution_f@2024-11-30@17-53-58.mp4\" controls autoplay loop style=\"max-width: 60%;\"  >\n",
       "      Your browser does not support the <code>video</code> element.\n",
       "    </video>"
      ],
      "text/plain": [
       "<IPython.core.display.Video object>"
      ]
     },
     "metadata": {},
     "output_type": "display_data"
    }
   ],
   "source": [
    "class Simple_solution_f(Scene):\n",
    "    def construct(self):\n",
    "        \n",
    "        scheme=ImageMobject(\"AC circuits\\\\4\")\n",
    "        \n",
    "        numberplane = NumberPlane(background_line_style={\n",
    "                \"stroke_color\": BLUE,\n",
    "                \"stroke_width\": 1,\n",
    "                \"stroke_opacity\": 0.6\n",
    "            })\n",
    "        \n",
    "#         self.add(scheme)  \n",
    "        \n",
    "#         self.play(scheme.animate.scale(0.5).shift(UP*2+RIGHT*3))\n",
    "        \n",
    "        I_m=MathTex(r\"I_m\")\n",
    "        \n",
    "        dot = Dot(ORIGIN)\n",
    "        \n",
    "        \n",
    "        Ur = Arrow(ORIGIN, [3, 0, 0], buff=0)\n",
    "        Ul = Arrow(ORIGIN, [0, 3.5, 0], buff=0)\n",
    "        Uc = Arrow(ORIGIN, [0, -2, 0], buff=0)\n",
    "        Im = Arrow(ORIGIN, [2, 0, 0], buff=0).set_color(BLUE)\n",
    "        U10 = Arrow(ORIGIN, [0, 1.5, 0], buff=0).set_color(GREEN)\n",
    "        U_sum=Arrow(ORIGIN, [3, 1.5, 0], buff=0).set_color(RED)\n",
    "        \n",
    "        Im_label=MathTex(r\"I_m\").set_color(BLUE).next_to(Im, DOWN)\n",
    "        Ur_label=MathTex(r\"U_R\").set_color(WHITE).next_to(Ur, RIGHT)\n",
    "        Ul_label=MathTex(r\"U_L\").set_color(WHITE).next_to(Ul, UP)\n",
    "        Uc_label=MathTex(r\"U_C\").next_to(Uc, DOWN)\n",
    "        U10_label=MathTex(r\"U_L-U_C\").scale(0.5).next_to(U10, LEFT).set_color(GREEN)\n",
    "        U_sum_label=MathTex(r\"U_m\").next_to(U_sum, UP).set_color(RED)\n",
    "        \n",
    "        angle1=Angle(Ur, Ul,  radius=0.4, dot=True)\n",
    "        angle2=Angle(Ur, Uc, radius=0.3, dot=True, other_angle=True)\n",
    "        angle3=Angle(U_sum, Ur, radius=0.9, color=YELLOW, other_angle=True)\n",
    "        \n",
    "        angle3_label=MathTex(r\"\\gamma_0\", color=YELLOW).next_to(angle3, RIGHT)\n",
    "        \n",
    "        Ur_copy=DashedLine(start=np.array([0, 1.5, 0]), end=np.array([3, 1.5, 0]), dashed_ratio=0.3)\n",
    "        U1_copy=DashedLine(start=np.array([3, 0, 0]), end=np.array([3, 1.5, 0]), dashed_ratio=0.3)\n",
    "        \n",
    "        g=VGroup( numberplane, Ur, Ul, Uc, Im_label, U10, Ur_label, \n",
    "                 Ur_copy, U1_copy,  angle1, angle2,\n",
    "                 Ul_label, Uc_label, Im, U10_label,  angle3, angle3_label, U_sum, U_sum_label, dot).move_to(LEFT*5.7).scale(0.8)\n",
    "        \n",
    "#         self.add(g)\n",
    "        \n",
    "        i=MathTex(r\"i=I_m \\sin{\\omega t}\")\n",
    "        i_ohm=MathTex(r\"i=i_r=i_L=i_C\")\n",
    "        u=MathTex(r\"u=\", r\"u_R+\", r\"u_L\", r\"+\", r\"u_c\")\n",
    "        ur=MathTex(r\"u_R=I_m R \\sin{\\omega t}\")\n",
    "        U=MathTex(r\"{U_m}^2=U_R^2+(U_L-U_C)^2\", substrings_to_isolate=[r\"U_m\", r\"(U_L-U_C)^2\"])\n",
    "        U1=MathTex(r\"U_m=\\sqrt{U_R^2+(U_L-U_C)^2}\", substrings_to_isolate=[r\"U_m\", r\"(U_L-U_C)^2\"])\n",
    "        U.set_color_by_tex(r\"U_m\", RED)\n",
    "        U.set_color_by_tex(r\"(U_L-U_C)^2\", GREEN)\n",
    "        \n",
    "        U1.set_color_by_tex(r\"U_m\", RED)\n",
    "        U1.set_color_by_tex(r\"(U_L-U_C)^2\", GREEN)\n",
    "        \n",
    "        U2=MathTex(r\"U_m=\\sqrt{(I_m R)^2+(I_m \\omega L-I_m \\frac{1}{\\omega C})^2}\", \n",
    "                   substrings_to_isolate=[r\"(I_m \\omega L-I_m \\frac{1}{\\omega C})\", \n",
    "                                          r\"U_m\"])\n",
    "        U2.set_color_by_tex(r\"U_m\", RED)\n",
    "        U2.set_color_by_tex(r\"(I_m \\omega L-I_m \\frac{1}{\\omega C})\", GREEN)\n",
    "        \n",
    "        U3=MathTex(r\"U_m=I_m \\sqrt{R^2+(\\omega L-\\frac{1}{\\omega C})^2}\", \n",
    "                   substrings_to_isolate=[r\"(\\omega L-\\frac{1}{\\omega C})\", \n",
    "                                          r\"U_m\"])\n",
    "        U3.set_color_by_tex(r\"U_m\", RED)\n",
    "        U3.set_color_by_tex(r\"(\\omega L-\\frac{1}{\\omega C})\", GREEN)\n",
    "                   \n",
    "        \n",
    "        UX=MathTex(r\"U_L=I_m X_L=I_m \\omega L\\\\\", \n",
    "                   r\"U_C=I_m X_C=I_m \\frac{1}{\\omega C}\").set_color(GREEN)\n",
    "        \n",
    "        Z=MathTex(r\"Z=\\frac{U_m}{I_m}=\\sqrt{R^2+(\\omega L-\\frac{1}{\\omega C})^2}\")    \n",
    "        \n",
    "        box1=SurroundingRectangle(u[2], buff=0.1, color=YELLOW)\n",
    "        box2=SurroundingRectangle(u[-1], buff=0.1, color=YELLOW)\n",
    "        \n",
    "        eqs1=VGroup(i, i_ohm, VGroup(u, box1), ur).arrange(DOWN, aligned_edge=LEFT, buff=0.5).move_to(RIGHT*3.5+UP*2).scale(0.7)\n",
    "        \n",
    "        eqs2=VGroup(U, U1, U2,U3).next_to(eqs1, DOWN).scale(0.7)\n",
    "        \n",
    "        eqs3=VGroup(UX, Z).arrange(DOWN, aligned_edge=LEFT, buff=0.5).move_to(RIGHT*3.5+DOWN*2).scale(0.7)\n",
    "        \n",
    "#         self.add(eqs1, eqs2, eqs3)\n",
    "        Z.shift(UP*1.8)\n",
    "        \n",
    "        \n",
    "        \n",
    "        \n",
    "        anim=[GrowFromPoint(scheme, ORIGIN), scheme.animate.shift(LEFT*2.5+DOWN*2).scale(0.5), \n",
    "              Create(VGroup(numberplane, dot), run_time=3, lag_ratio=0.1), \n",
    "              Write(i), Write(i_ohm), Write(u), Write(ur), \n",
    "              Transform(i.copy(), VGroup(Im, Im_label)),Transform(ur.copy(), VGroup(Ur, Ur_label)), \n",
    "              Create(box1), Create(angle1), Transform(VGroup(u[2], box1).copy(), VGroup(Ul, Ul_label)), \n",
    "              box1.animate.shift(RIGHT*.7), Create(angle2), Transform(box1, VGroup(Uc, Uc_label)), \n",
    "              Transform(VGroup(Ul, Uc), VGroup(U10, U10_label)), Transform(Ur.copy(), Ur_copy), \n",
    "              Transform(U10.copy(), U1_copy), GrowFromPoint(VGroup(U_sum, U_sum_label), numberplane.get_center()), \n",
    "              Create(VGroup(angle3, angle3_label)), Write(U), \n",
    "              ReplacementTransform(U, U1), Write(UX), ReplacementTransform(U1, U2), ReplacementTransform(U2, U3), FadeOut(UX), \n",
    "              Write(Z)\n",
    "              \n",
    "             ]\n",
    "        \n",
    "        for a in anim: \n",
    "            self.play(a)\n",
    "            self.wait(1)\n",
    "        \n",
    "        self.wait(3)\n",
    "        \n",
    "        phase=MathTex(r\"\\gamma_0=\\tan^{-1}{\\frac{U_L-U_C}{U_R}}\").next_to(Z, DOWN).scale(0.7)\n",
    "        \n",
    "        phase1=MathTex(r\"\\gamma_0=\\tan^{-1}{(\\frac{\\omega L-1/(\\omega C)}{R}})\").next_to(Z, DOWN).scale(0.7)\n",
    "        \n",
    "        self.play(Write(phase))\n",
    "        self.wait(1)\n",
    "        \n",
    "        self.play(ReplacementTransform(phase, phase1))\n",
    "        \n",
    "        self.wait(4)\n",
    "        \n",
    "        \n",
    "        \n",
    "%manim -qh -v WARNING Simple_solution_f"
   ]
  },
  {
   "cell_type": "code",
   "execution_count": 175,
   "id": "6082c204",
   "metadata": {},
   "outputs": [
    {
     "data": {
      "text/html": [
       "<pre style=\"white-space:pre;overflow-x:auto;line-height:normal;font-family:Menlo,'DejaVu Sans Mono',consolas,'Courier New',monospace\">Manim Community <span style=\"color: #008000; text-decoration-color: #008000\">v0.18.1</span>\n",
       "\n",
       "</pre>\n"
      ],
      "text/plain": [
       "Manim Community \u001b[32mv0.\u001b[0m\u001b[32m18.1\u001b[0m\n",
       "\n"
      ]
     },
     "metadata": {},
     "output_type": "display_data"
    },
    {
     "data": {
      "image/png": "[encoded data removed]",
      "text/plain": [
       "<IPython.core.display.Image object>"
      ]
     },
     "metadata": {},
     "output_type": "display_data"
    }
   ],
   "source": [
    "class Icon(Scene):\n",
    "    def construct(self):\n",
    "        t=Tex(r\"$\\tau$\").scale(8).move_to(LEFT*3)\n",
    "        b=Tex(r\"$\\beta $ \").scale(8).move_to(RIGHT*2)\n",
    "        \n",
    "        takyk=Tex(\"akyk\").next_to(t, RIGHT).scale(2)\n",
    "        bilim=Tex(\" ilim\").next_to(b, RIGHT).scale(2)\n",
    "        self.add(t, b, takyk, bilim)\n",
    "        \n",
    "        \n",
    "%manim -qm -v WARNING Icon"
   ]
  },
  {
   "cell_type": "code",
   "execution_count": 314,
   "id": "e850d475",
   "metadata": {},
   "outputs": [
    {
     "data": {
      "text/html": [
       "<pre style=\"white-space:pre;overflow-x:auto;line-height:normal;font-family:Menlo,'DejaVu Sans Mono',consolas,'Courier New',monospace\">Manim Community <span style=\"color: #008000; text-decoration-color: #008000\">v0.18.1</span>\n",
       "\n",
       "</pre>\n"
      ],
      "text/plain": [
       "Manim Community \u001b[32mv0.\u001b[0m\u001b[32m18.1\u001b[0m\n",
       "\n"
      ]
     },
     "metadata": {},
     "output_type": "display_data"
    },
    {
     "name": "stderr",
     "output_type": "stream",
     "text": [
      "                                                                                                                       \r"
     ]
    },
    {
     "data": {
      "text/html": [
       "<video src=\"media\\jupyter\\Ohms_law_s_f@2024-11-30@19-21-42.mp4\" controls autoplay loop style=\"max-width: 60%;\"  >\n",
       "      Your browser does not support the <code>video</code> element.\n",
       "    </video>"
      ],
      "text/plain": [
       "<IPython.core.display.Video object>"
      ]
     },
     "metadata": {},
     "output_type": "display_data"
    }
   ],
   "source": [
    "class Ohms_law_s_f(Scene):\n",
    "    def construct(self):\n",
    "        \n",
    "        I_s=MathTex(r\"I=I_1=I_2=I_3\").set_color(BLUE)\n",
    "        U_s=MathTex( r\"U=U_1+U_2+U_3\")\n",
    "\n",
    "        U_s1=MathTex(r\"IR=IR_1+IR_2+IR_3\")\n",
    "        R_s=MathTex(r\"R=R_1+R_2+R_3\").set_color(RED)\n",
    "\n",
    "\n",
    "        eqs=VGroup(I_s, U_s, U_s1, R_s).arrange(DOWN, aligned_edge=LEFT).scale(2)\n",
    "#         self.add(eqs)\n",
    "        \n",
    "        anim=[Write(I_s), Write(U_s), Write(U_s1), ReplacementTransform(U_s1, R_s)]\n",
    "        \n",
    "        for a in anim: \n",
    "            self.play(a)\n",
    "            self.wait(1)\n",
    "        \n",
    "        self.wait(3)\n",
    "\n",
    "%manim -qh -v WARNING Ohms_law_s_f\n",
    "    \n",
    "    "
   ]
  },
  {
   "cell_type": "code",
   "execution_count": 316,
   "id": "2f59f1a4",
   "metadata": {},
   "outputs": [
    {
     "data": {
      "text/html": [
       "<pre style=\"white-space:pre;overflow-x:auto;line-height:normal;font-family:Menlo,'DejaVu Sans Mono',consolas,'Courier New',monospace\">Manim Community <span style=\"color: #008000; text-decoration-color: #008000\">v0.18.1</span>\n",
       "\n",
       "</pre>\n"
      ],
      "text/plain": [
       "Manim Community \u001b[32mv0.\u001b[0m\u001b[32m18.1\u001b[0m\n",
       "\n"
      ]
     },
     "metadata": {},
     "output_type": "display_data"
    },
    {
     "name": "stderr",
     "output_type": "stream",
     "text": [
      "                                                                                                                       \r"
     ]
    },
    {
     "data": {
      "text/html": [
       "<video src=\"media\\jupyter\\Ohms_law_p_f@2024-11-30@19-24-50.mp4\" controls autoplay loop style=\"max-width: 60%;\"  >\n",
       "      Your browser does not support the <code>video</code> element.\n",
       "    </video>"
      ],
      "text/plain": [
       "<IPython.core.display.Video object>"
      ]
     },
     "metadata": {},
     "output_type": "display_data"
    }
   ],
   "source": [
    "class Ohms_law_p_f(Scene):\n",
    "    def construct(self):\n",
    "        \n",
    "        I_s=MathTex(r\"I=I_1+I_2+I_3\").set_color(BLUE)\n",
    "        U_s=MathTex( r\"U=U_1=U_2=U_3\")\n",
    "\n",
    "        U_s1=MathTex(r\"\\frac{U}{R}=\\frac{U}{R_1}+\\frac{U}{R_2}+\\frac{U}{R_3}\")\n",
    "        R_s=MathTex(r\"\\frac{1}{R}=\\frac{1}{R_1}+\\frac{1}{R_2}+\\frac{1}{R_3}\").set_color(RED)\n",
    "\n",
    "\n",
    "        eqs=VGroup(I_s, U_s, U_s1, R_s).arrange(DOWN, aligned_edge=LEFT).scale(2)\n",
    "#         self.add(eqs)\n",
    "        \n",
    "        anim=[Write(I_s), Write(U_s), Write(U_s1), ReplacementTransform(U_s1, R_s)]\n",
    "        \n",
    "        for a in anim: \n",
    "            self.play(a)\n",
    "            self.wait(1)\n",
    "        \n",
    "        self.wait(3)\n",
    "\n",
    "%manim -qh -v WARNING Ohms_law_p_f"
   ]
  },
  {
   "cell_type": "code",
   "execution_count": 324,
   "id": "9fb6d650",
   "metadata": {},
   "outputs": [
    {
     "data": {
      "text/html": [
       "<pre style=\"white-space:pre;overflow-x:auto;line-height:normal;font-family:Menlo,'DejaVu Sans Mono',consolas,'Courier New',monospace\">Manim Community <span style=\"color: #008000; text-decoration-color: #008000\">v0.18.1</span>\n",
       "\n",
       "</pre>\n"
      ],
      "text/plain": [
       "Manim Community \u001b[32mv0.\u001b[0m\u001b[32m18.1\u001b[0m\n",
       "\n"
      ]
     },
     "metadata": {},
     "output_type": "display_data"
    },
    {
     "name": "stderr",
     "output_type": "stream",
     "text": [
      "                                                                                                                       \r"
     ]
    },
    {
     "data": {
      "text/html": [
       "<video src=\"media\\jupyter\\Seq_ex_f@2024-11-30@19-34-10.mp4\" controls autoplay loop style=\"max-width: 60%;\"  >\n",
       "      Your browser does not support the <code>video</code> element.\n",
       "    </video>"
      ],
      "text/plain": [
       "<IPython.core.display.Video object>"
      ]
     },
     "metadata": {},
     "output_type": "display_data"
    }
   ],
   "source": [
    "class Seq_ex_f(Scene):\n",
    "    def construct(self):\n",
    "        U1=MathTex(r\"U_1=10.67 \\; W\")\n",
    "        U2=MathTex(r\"U_2=13.33 \\; W\")\n",
    "        U3=MathTex(r\"U_3=16 W\")\n",
    "        \n",
    "        U=MathTex(r\"U=10.67+13.33+16\")\n",
    "        Uf=MathTex(r\"U=40 W\")\n",
    "        \n",
    "        eqs=VGroup(U1, U2, U3, U, Uf).arrange(DOWN, aligned_edge=LEFT).scale(2)\n",
    "        \n",
    "        \n",
    "        \n",
    "        anim=[Write(U1), Write(U2), Write(U3), Write(U), ReplacementTransform(U, Uf)]\n",
    "        \n",
    "        for a in anim: \n",
    "            self.play(a)\n",
    "            self.wait(1)\n",
    "            \n",
    "        self.wait(3)\n",
    "        \n",
    "%manim -qh -v WARNING Seq_ex_f"
   ]
  },
  {
   "cell_type": "code",
   "execution_count": 327,
   "id": "6068589c",
   "metadata": {},
   "outputs": [
    {
     "data": {
      "text/html": [
       "<pre style=\"white-space:pre;overflow-x:auto;line-height:normal;font-family:Menlo,'DejaVu Sans Mono',consolas,'Courier New',monospace\">Manim Community <span style=\"color: #008000; text-decoration-color: #008000\">v0.18.1</span>\n",
       "\n",
       "</pre>\n"
      ],
      "text/plain": [
       "Manim Community \u001b[32mv0.\u001b[0m\u001b[32m18.1\u001b[0m\n",
       "\n"
      ]
     },
     "metadata": {},
     "output_type": "display_data"
    },
    {
     "name": "stderr",
     "output_type": "stream",
     "text": [
      "                                                                                                                       \r"
     ]
    },
    {
     "data": {
      "text/html": [
       "<video src=\"media\\jupyter\\P_ex_f@2024-11-30@19-38-44.mp4\" controls autoplay loop style=\"max-width: 60%;\"  >\n",
       "      Your browser does not support the <code>video</code> element.\n",
       "    </video>"
      ],
      "text/plain": [
       "<IPython.core.display.Video object>"
      ]
     },
     "metadata": {},
     "output_type": "display_data"
    }
   ],
   "source": [
    "class P_ex_f(Scene):\n",
    "    def construct(self):\n",
    "        U1=MathTex(r\"I_1=5 \\; A\")\n",
    "        U2=MathTex(r\"I_2=3.33 \\; A\")\n",
    "        U3=MathTex(r\"I_3=4 \\; A\")\n",
    "        \n",
    "        U=MathTex(r\"I=5+3.33+4\")\n",
    "        Uf=MathTex(r\"I=12.33 \\; A\")\n",
    "        \n",
    "        eqs=VGroup(U1, U2, U3, U, Uf).set_color(BLUE).arrange(DOWN, aligned_edge=LEFT).scale(2)\n",
    "        \n",
    "        \n",
    "        \n",
    "        anim=[Write(U1), Write(U2), Write(U3), Write(U), ReplacementTransform(U, Uf)]\n",
    "        \n",
    "        for a in anim: \n",
    "            self.play(a)\n",
    "            self.wait(1)\n",
    "            \n",
    "        self.wait(3)\n",
    "        \n",
    "%manim -qh -v WARNING P_ex_f"
   ]
  },
  {
   "cell_type": "code",
   "execution_count": 329,
   "id": "653b595c",
   "metadata": {},
   "outputs": [
    {
     "data": {
      "text/html": [
       "<pre style=\"white-space:pre;overflow-x:auto;line-height:normal;font-family:Menlo,'DejaVu Sans Mono',consolas,'Courier New',monospace\">Manim Community <span style=\"color: #008000; text-decoration-color: #008000\">v0.18.1</span>\n",
       "\n",
       "</pre>\n"
      ],
      "text/plain": [
       "Manim Community \u001b[32mv0.\u001b[0m\u001b[32m18.1\u001b[0m\n",
       "\n"
      ]
     },
     "metadata": {},
     "output_type": "display_data"
    },
    {
     "name": "stderr",
     "output_type": "stream",
     "text": [
      "                                                                                                                       \r"
     ]
    },
    {
     "data": {
      "text/html": [
       "<video src=\"media\\jupyter\\Om_f@2024-11-30@19-41-36.mp4\" controls autoplay loop style=\"max-width: 60%;\"  >\n",
       "      Your browser does not support the <code>video</code> element.\n",
       "    </video>"
      ],
      "text/plain": [
       "<IPython.core.display.Video object>"
      ]
     },
     "metadata": {},
     "output_type": "display_data"
    }
   ],
   "source": [
    "class Om_f(Scene):\n",
    "    def construct(self):\n",
    "        U1=MathTex(r\"I \\propto \\frac{1}{R}\")\n",
    "        U2=MathTex(r\"I \\propto U\")\n",
    "        U3=MathTex(r\"I=\\frac{U}{R}\")\n",
    "\n",
    "        \n",
    "        eqs=VGroup(U1, U2, U3).set_color(BLUE).arrange(DOWN, aligned_edge=LEFT).scale(2)\n",
    "        \n",
    "        \n",
    "        \n",
    "        anim=[Write(U1), Write(U2), Write(U3)]\n",
    "        \n",
    "        for a in anim: \n",
    "            self.play(a)\n",
    "            self.wait(1)\n",
    "            \n",
    "        self.wait(3)\n",
    "        \n",
    "%manim -qh -v WARNING Om_f"
   ]
  },
  {
   "cell_type": "code",
   "execution_count": 335,
   "id": "ef76e3c4",
   "metadata": {},
   "outputs": [
    {
     "data": {
      "text/html": [
       "<pre style=\"white-space:pre;overflow-x:auto;line-height:normal;font-family:Menlo,'DejaVu Sans Mono',consolas,'Courier New',monospace\">Manim Community <span style=\"color: #008000; text-decoration-color: #008000\">v0.18.1</span>\n",
       "\n",
       "</pre>\n"
      ],
      "text/plain": [
       "Manim Community \u001b[32mv0.\u001b[0m\u001b[32m18.1\u001b[0m\n",
       "\n"
      ]
     },
     "metadata": {},
     "output_type": "display_data"
    },
    {
     "name": "stderr",
     "output_type": "stream",
     "text": [
      "                                                                                                                       \r"
     ]
    },
    {
     "data": {
      "text/html": [
       "<video src=\"media\\jupyter\\Current@2024-11-30@20-06-51.mp4\" controls autoplay loop style=\"max-width: 60%;\"  >\n",
       "      Your browser does not support the <code>video</code> element.\n",
       "    </video>"
      ],
      "text/plain": [
       "<IPython.core.display.Video object>"
      ]
     },
     "metadata": {},
     "output_type": "display_data"
    }
   ],
   "source": [
    "class Current(Scene):\n",
    "    def construct(self):\n",
    "        \n",
    "        I_s=MathTex(r\"I=\\frac{q}{t}\").set_color(BLUE).scale(4)\n",
    "        \n",
    "        self.play(Write(I_s))\n",
    "        self.wait(2)\n",
    "       \n",
    "\n",
    "%manim -qh -v WARNING Current\n",
    "    "
   ]
  },
  {
   "cell_type": "code",
   "execution_count": 5,
   "id": "5b13e56d",
   "metadata": {},
   "outputs": [
    {
     "data": {
      "text/html": [
       "<pre style=\"white-space:pre;overflow-x:auto;line-height:normal;font-family:Menlo,'DejaVu Sans Mono',consolas,'Courier New',monospace\">Manim Community <span style=\"color: #008000; text-decoration-color: #008000\">v0.18.1</span>\n",
       "\n",
       "</pre>\n"
      ],
      "text/plain": [
       "Manim Community \u001b[32mv0.\u001b[0m\u001b[32m18.1\u001b[0m\n",
       "\n"
      ]
     },
     "metadata": {},
     "output_type": "display_data"
    },
    {
     "name": "stderr",
     "output_type": "stream",
     "text": [
      "                                                                                                                       \r"
     ]
    },
    {
     "data": {
      "text/html": [
       "<video src=\"media\\jupyter\\SinusEquation_f@2024-12-06@20-08-24.mp4\" controls autoplay loop style=\"max-width: 60%;\"  >\n",
       "      Your browser does not support the <code>video</code> element.\n",
       "    </video>"
      ],
      "text/plain": [
       "<IPython.core.display.Video object>"
      ]
     },
     "metadata": {},
     "output_type": "display_data"
    }
   ],
   "source": [
    "from manim import * \n",
    "\n",
    "class SinusEquation_f(Scene):\n",
    "    def construct(self):\n",
    "        \n",
    "        I_s=MathTex(r\"a=A \\sin{(\\omega t +\\phi_0)}\").set_color(WHITE).scale(2)\n",
    "        A=Tex(r\"$A-$\", \"amplituda\")\n",
    "        om=Tex(r\"$\\omega=2\\pi/T$-\", \"period\")\n",
    "        phi=Tex(r\"$\\phi_0$-\", \"başlangyç faza\")\n",
    "        \n",
    "        eq=VGroup(I_s, A, om, phi).arrange(DOWN, aligned_edge=LEFT)\n",
    "        \n",
    "        anim=[Write(I_s), Write(A), Write(om), Write(phi)]\n",
    "        \n",
    "        for a in anim:\n",
    "            self.play(a)\n",
    "            self.wait(1)\n",
    "        \n",
    "        self.wait(2)\n",
    "       \n",
    "\n",
    "%manim -qh -v WARNING SinusEquation_f"
   ]
  }
 ],
 "metadata": {
  "kernelspec": {
   "display_name": "py3117",
   "language": "python",
   "name": "py3117"
  },
  "language_info": {
   "codemirror_mode": {
    "name": "ipython",
    "version": 3
   },
   "file_extension": ".py",
   "mimetype": "text/x-python",
   "name": "python",
   "nbconvert_exporter": "python",
   "pygments_lexer": "ipython3",
   "version": "3.11.7"
  }
 },
 "nbformat": 4,
 "nbformat_minor": 5
}
